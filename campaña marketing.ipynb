{
 "cells": [
  {
   "cell_type": "markdown",
   "metadata": {},
   "source": [
    "# Optimización de Campañas de Marketing"
   ]
  },
  {
   "cell_type": "markdown",
   "metadata": {},
   "source": [
    "## 1. Procesamiento de Datos"
   ]
  },
  {
   "cell_type": "markdown",
   "metadata": {},
   "source": [
    "### Importación de librerías necesarias"
   ]
  },
  {
   "cell_type": "code",
   "execution_count": 1,
   "metadata": {},
   "outputs": [],
   "source": [
    "import warnings\n",
    "import pandas as pd\n",
    "import numpy as np\n",
    "import matplotlib.pyplot as plt\n",
    "from sklearn.neighbors import LocalOutlierFactor\n",
    "from sklearn.preprocessing import StandardScaler\n",
    "from sklearn.decomposition import PCA\n",
    "from sklearn.metrics import silhouette_score\n",
    "from sklearn.cluster import KMeans\n",
    "import matplotlib.pyplot as plt\n",
    "import seaborn as sns\n",
    "from sklearn.model_selection import train_test_split\n",
    "from keras.models import Model, Sequential\n",
    "from keras.layers import Dense, Input\n",
    "from sklearn.model_selection import GridSearchCV\n",
    "from scikeras.wrappers import KerasClassifier\n",
    "from sklearn.metrics import accuracy_score, classification_report, confusion_matrix, precision_score, recall_score, f1_score\n",
    "\n",
    "warnings.filterwarnings(\"ignore\", category=FutureWarning)"
   ]
  },
  {
   "cell_type": "markdown",
   "metadata": {},
   "source": [
    "### Importar Dataset"
   ]
  },
  {
   "cell_type": "code",
   "execution_count": 2,
   "metadata": {},
   "outputs": [],
   "source": [
    "df = pd.read_csv(\"marketing_campaign.csv\", sep=\";\")"
   ]
  },
  {
   "cell_type": "code",
   "execution_count": 3,
   "metadata": {},
   "outputs": [
    {
     "name": "stdout",
     "output_type": "stream",
     "text": [
      "Dimensión del dataset: (2240, 29)\n"
     ]
    }
   ],
   "source": [
    "print(\"Dimensión del dataset:\", df.shape)"
   ]
  },
  {
   "cell_type": "markdown",
   "metadata": {},
   "source": [
    "### Creación de nuevas variables y tratamiento de las actuales"
   ]
  },
  {
   "cell_type": "markdown",
   "metadata": {},
   "source": [
    "**Nivel de educación en niveles: High, Middle y Low**"
   ]
  },
  {
   "cell_type": "code",
   "execution_count": 3,
   "metadata": {},
   "outputs": [],
   "source": [
    "def education_level(education):\n",
    "    if education in ['Graduation', 'PhD', 'Master']:\n",
    "        return 'High'\n",
    "    elif education in ['Basic']:\n",
    "        return 'Middle'\n",
    "    else:\n",
    "        return 'Low'\n",
    "\n",
    "df['Education_Level'] = df['Education'].apply(education_level)"
   ]
  },
  {
   "cell_type": "markdown",
   "metadata": {},
   "source": [
    "**Viviendo solo (Living Alone) o en compañía (Living with others)**"
   ]
  },
  {
   "cell_type": "code",
   "execution_count": 4,
   "metadata": {},
   "outputs": [],
   "source": [
    "def living_status(marital_status):\n",
    "    if marital_status in ['Alone', 'Absurd', 'YOLO']:\n",
    "        return 'Living Alone'\n",
    "    else:\n",
    "        return 'Living with Others'\n",
    "\n",
    "df['Living_Status'] = df['Marital_Status'].apply(living_status)"
   ]
  },
  {
   "cell_type": "markdown",
   "metadata": {},
   "source": [
    "**Traspasar de año de nacimiento a edad**"
   ]
  },
  {
   "cell_type": "code",
   "execution_count": 5,
   "metadata": {},
   "outputs": [],
   "source": [
    "df['Age'] = 2022 - df['Year_Birth']"
   ]
  },
  {
   "cell_type": "markdown",
   "metadata": {},
   "source": [
    "**Sumar la cantidad de campañas previamente aceptadas**"
   ]
  },
  {
   "cell_type": "code",
   "execution_count": 6,
   "metadata": {},
   "outputs": [],
   "source": [
    "df['Total_Campaigns_Accepted'] = df[['AcceptedCmp1', 'AcceptedCmp2', 'AcceptedCmp3', 'AcceptedCmp4', 'AcceptedCmp5']].sum(axis=1)"
   ]
  },
  {
   "cell_type": "markdown",
   "metadata": {},
   "source": [
    "**Sumar la cantidad total de dinero gastado**"
   ]
  },
  {
   "cell_type": "code",
   "execution_count": 7,
   "metadata": {},
   "outputs": [],
   "source": [
    "df['Total_Spent'] = df['MntWines']+df[\"MntWines\"] +df['MntFruits']+ df['MntMeatProducts'] +df['MntFishProducts']+df['MntSweetProducts']+ df['MntGoldProds']"
   ]
  },
  {
   "cell_type": "markdown",
   "metadata": {},
   "source": [
    "**Variable dummy de si el cliente es padre o no**"
   ]
  },
  {
   "cell_type": "code",
   "execution_count": 8,
   "metadata": {},
   "outputs": [],
   "source": [
    "df['Is_Parent'] = (df['Kidhome'] + df['Teenhome'] > 0).astype(int)"
   ]
  },
  {
   "cell_type": "markdown",
   "metadata": {},
   "source": [
    "**Promedio de visitas mensuales del cliente a la página web de la compañía y radio online de compras online** "
   ]
  },
  {
   "cell_type": "code",
   "execution_count": 9,
   "metadata": {},
   "outputs": [],
   "source": [
    "df['avg_web_visits'] = round((df['NumWebVisitsMonth'] / 12), 2)\n",
    "\n",
    "df['online_purchase_ratio'] = round((df['NumWebPurchases'] / (df['NumWebPurchases'] + df['NumCatalogPurchases'] + df['NumStorePurchases'])), 2)"
   ]
  },
  {
   "cell_type": "markdown",
   "metadata": {},
   "source": [
    "### Tratamiento de datos nulos y duplicados"
   ]
  },
  {
   "cell_type": "code",
   "execution_count": 10,
   "metadata": {},
   "outputs": [],
   "source": [
    "df = df.dropna()"
   ]
  },
  {
   "cell_type": "code",
   "execution_count": 11,
   "metadata": {},
   "outputs": [
    {
     "data": {
      "text/plain": [
       "0"
      ]
     },
     "execution_count": 11,
     "metadata": {},
     "output_type": "execute_result"
    }
   ],
   "source": [
    "df.duplicated().sum()"
   ]
  },
  {
   "cell_type": "markdown",
   "metadata": {},
   "source": [
    "### Tratamiento de variables cualitativas"
   ]
  },
  {
   "cell_type": "code",
   "execution_count": 12,
   "metadata": {},
   "outputs": [],
   "source": [
    "df = pd.get_dummies(df, columns=[\"Education_Level\",\"Living_Status\"])"
   ]
  },
  {
   "cell_type": "code",
   "execution_count": 13,
   "metadata": {},
   "outputs": [],
   "source": [
    "df[\"Education_Level_High\"] = df[\"Education_Level_High\"].astype(int)\n",
    "df[\"Education_Level_Low\"] = df[\"Education_Level_Low\"].astype(int)\n",
    "df[\"Education_Level_Middle\"] = df[\"Education_Level_Middle\"].astype(int)\n",
    "df[\"Living_Status_Living Alone\"] = df[\"Living_Status_Living Alone\"].astype(int)\n",
    "df[\"Living_Status_Living with Others\"] = df[\"Living_Status_Living with Others\"].astype(int)"
   ]
  },
  {
   "cell_type": "markdown",
   "metadata": {},
   "source": [
    "### Eliminamos columnas irrelevantes"
   ]
  },
  {
   "cell_type": "code",
   "execution_count": 14,
   "metadata": {},
   "outputs": [],
   "source": [
    "to_drop = ['Dt_Customer', 'Z_CostContact', 'Z_Revenue', 'Year_Birth', 'ID','Education','Marital_Status', 'Kidhome', 'Teenhome']\n",
    "df = df.drop(to_drop, axis=1)"
   ]
  },
  {
   "cell_type": "markdown",
   "metadata": {},
   "source": [
    "### Tratamiento de ouliers con LOF"
   ]
  },
  {
   "cell_type": "markdown",
   "metadata": {},
   "source": [
    "Detectamos y eliminamos outliers con LOF"
   ]
  },
  {
   "cell_type": "code",
   "execution_count": 15,
   "metadata": {},
   "outputs": [],
   "source": [
    "lof = LocalOutlierFactor(n_neighbors=10, metric='euclidean')\n",
    "labels = lof.fit_predict(df)\n",
    "scores = lof.negative_outlier_factor_"
   ]
  },
  {
   "cell_type": "code",
   "execution_count": 16,
   "metadata": {},
   "outputs": [
    {
     "data": {
      "image/png": "[encoded data removed]",
      "text/plain": [
       "<Figure size 640x480 with 1 Axes>"
      ]
     },
     "metadata": {},
     "output_type": "display_data"
    }
   ],
   "source": [
    "def plot_hist(X, title):\n",
    "    x, bins, patches = plt.hist(x=X, bins='auto')\n",
    "    plt.grid(axis='y')\n",
    "    plt.xlabel('LOF')\n",
    "    plt.ylabel('Frequency')\n",
    "    plt.title(title)\n",
    "    maxfreq = x.max()\n",
    "    plt.ylim(ymax=np.ceil(maxfreq))\n",
    "    plt.xlim(-3, 0)\n",
    "\n",
    "plot_hist(scores, 'LOF scores')"
   ]
  },
  {
   "cell_type": "markdown",
   "metadata": {},
   "source": [
    "Usamos -1.5 como umbral de corte"
   ]
  },
  {
   "cell_type": "code",
   "execution_count": 17,
   "metadata": {},
   "outputs": [
    {
     "name": "stdout",
     "output_type": "stream",
     "text": [
      "Datos bajo el umbral de corte: 0.03484162895927602\n",
      "Cantidad de outliers: 77\n"
     ]
    }
   ],
   "source": [
    "def lof_threshold(v,scores):\n",
    "    N = len(scores)\n",
    "    points = scores[scores < v]\n",
    "    threshold = len(points)/N\n",
    "    return threshold, points\n",
    "\n",
    "threshold, outliers = lof_threshold(-1.5,scores)\n",
    "print(f'Datos bajo el umbral de corte: {threshold}')\n",
    "print(f'Cantidad de outliers: {len(outliers)}')"
   ]
  },
  {
   "cell_type": "code",
   "execution_count": 18,
   "metadata": {},
   "outputs": [
    {
     "name": "stdout",
     "output_type": "stream",
     "text": [
      "(2133, 31)\n",
      "    Income  Recency  MntWines  MntFruits  MntMeatProducts  MntFishProducts  \\\n",
      "0  58138.0       58       635         88              546              172   \n",
      "1  46344.0       38        11          1                6                2   \n",
      "2  71613.0       26       426         49              127              111   \n",
      "3  26646.0       26        11          4               20               10   \n",
      "4  58293.0       94       173         43              118               46   \n",
      "\n",
      "   MntSweetProducts  MntGoldProds  NumDealsPurchases  NumWebPurchases  ...  \\\n",
      "0                88            88                  3                8  ...   \n",
      "1                 1             6                  2                1  ...   \n",
      "2                21            42                  1                8  ...   \n",
      "3                 3             5                  2                2  ...   \n",
      "4                27            15                  5                5  ...   \n",
      "\n",
      "   Total_Campaigns_Accepted  Total_Spent  Is_Parent  avg_web_visits  \\\n",
      "0                         0         2252          0            0.58   \n",
      "1                         0           38          1            0.42   \n",
      "2                         0         1202          0            0.33   \n",
      "3                         0           64          1            0.50   \n",
      "4                         0          595          1            0.42   \n",
      "\n",
      "   online_purchase_ratio  Education_Level_High  Education_Level_Low  \\\n",
      "0                   0.36                     1                    0   \n",
      "1                   0.25                     1                    0   \n",
      "2                   0.40                     1                    0   \n",
      "3                   0.33                     1                    0   \n",
      "4                   0.36                     1                    0   \n",
      "\n",
      "   Education_Level_Middle  Living_Status_Living Alone  \\\n",
      "0                       0                           0   \n",
      "1                       0                           0   \n",
      "2                       0                           0   \n",
      "3                       0                           0   \n",
      "4                       0                           0   \n",
      "\n",
      "   Living_Status_Living with Others  \n",
      "0                                 1  \n",
      "1                                 1  \n",
      "2                                 1  \n",
      "3                                 1  \n",
      "4                                 1  \n",
      "\n",
      "[5 rows x 31 columns]\n"
     ]
    }
   ],
   "source": [
    "# Recuperado de clase\n",
    "lof = LocalOutlierFactor(n_neighbors=10, metric='euclidean', contamination=threshold)\n",
    "labels = lof.fit_predict(df)\n",
    "indices = list(np.where(labels==1)[0])\n",
    "\n",
    "dataset_limpio = df.iloc[indices]\n",
    "\n",
    "print(dataset_limpio.shape)\n",
    "print(dataset_limpio.head())"
   ]
  },
  {
   "cell_type": "markdown",
   "metadata": {},
   "source": [
    "Vemos que, luego de limpiar los datos, quedamos con 2133 clientes y 33 características"
   ]
  },
  {
   "cell_type": "markdown",
   "metadata": {},
   "source": [
    "### Estandarizamos los datos "
   ]
  },
  {
   "cell_type": "markdown",
   "metadata": {},
   "source": [
    "Estandarizamos los datos con StandardScaler (para las columnas no dummies)y guardamos datos de medias y desviaciones estándares relevantes."
   ]
  },
  {
   "cell_type": "code",
   "execution_count": 19,
   "metadata": {},
   "outputs": [],
   "source": [
    "column_means = {}\n",
    "column_stddevs = {}\n",
    "\n",
    "for column in dataset_limpio.columns:\n",
    "    column_means[column] = dataset_limpio[column].mean()\n",
    "    column_stddevs[column] = dataset_limpio[column].std()"
   ]
  },
  {
   "cell_type": "code",
   "execution_count": 20,
   "metadata": {},
   "outputs": [],
   "source": [
    "scaler = StandardScaler()\n",
    "\n",
    "num_cols = ['Income', 'Recency', 'MntWines', 'MntFruits', 'MntMeatProducts',\n",
    "            'MntFishProducts', 'MntSweetProducts', 'MntGoldProds',\n",
    "            'NumDealsPurchases', 'NumWebPurchases', 'NumCatalogPurchases',\n",
    "            'NumStorePurchases', 'NumWebVisitsMonth', 'AcceptedCmp3',\n",
    "            'AcceptedCmp4', 'AcceptedCmp5', 'AcceptedCmp1', 'AcceptedCmp2', \n",
    "            'Age', 'Total_Campaigns_Accepted',\n",
    "            'Total_Spent', 'avg_web_visits', 'online_purchase_ratio']\n",
    "\n",
    "dataset_limpio.loc[:, num_cols] = scaler.fit_transform(dataset_limpio[num_cols])"
   ]
  },
  {
   "cell_type": "markdown",
   "metadata": {},
   "source": [
    "### Balance de clases"
   ]
  },
  {
   "cell_type": "code",
   "execution_count": 21,
   "metadata": {},
   "outputs": [
    {
     "name": "stdout",
     "output_type": "stream",
     "text": [
      "Porcentaje de Response 1: 14.861697140178155\n",
      "Porcentaje de Response 0: 85.13830285982185\n"
     ]
    },
    {
     "data": {
      "image/png": "[encoded data removed]",
      "text/plain": [
       "<Figure size 600x400 with 1 Axes>"
      ]
     },
     "metadata": {},
     "output_type": "display_data"
    }
   ],
   "source": [
    "response_counts = dataset_limpio['Response'].value_counts()\n",
    "total_samples = len(dataset_limpio)\n",
    "percentage_response_1 = (response_counts[1] / total_samples) * 100\n",
    "percentage_response_0 = (response_counts[0] / total_samples) * 100\n",
    "\n",
    "print(\"Porcentaje de Response 1:\", percentage_response_1)\n",
    "print(\"Porcentaje de Response 0:\", percentage_response_0)\n",
    "\n",
    "# Visualizar el balance de clases\n",
    "plt.figure(figsize=(6, 4))\n",
    "plt.bar(['Response 1', 'Response 0'], [percentage_response_1, percentage_response_0])\n",
    "plt.xlabel('Clases')\n",
    "plt.ylabel('Porcentaje de Ejemplos')\n",
    "plt.title('Balance de Clases')\n",
    "plt.show()"
   ]
  },
  {
   "cell_type": "markdown",
   "metadata": {},
   "source": [
    "## 2. Clustering"
   ]
  },
  {
   "cell_type": "markdown",
   "metadata": {},
   "source": [
    "Realizamos clustering con PCA y KMEANS para identificar segmentos de clientes"
   ]
  },
  {
   "cell_type": "code",
   "execution_count": 22,
   "metadata": {},
   "outputs": [],
   "source": [
    "df_clustering = dataset_limpio[[\"Education_Level_High\", \"Education_Level_Low\", \"Education_Level_Middle\",\n",
    "                    \"Living_Status_Living Alone\",\"Living_Status_Living with Others\",'Age',\"Is_Parent\", \"Income\"]]"
   ]
  },
  {
   "cell_type": "markdown",
   "metadata": {},
   "source": [
    "### PCA"
   ]
  },
  {
   "cell_type": "code",
   "execution_count": 23,
   "metadata": {},
   "outputs": [
    {
     "data": {
      "text/plain": [
       "array([[ 9.81107689e-01,  3.93852184e-01,  3.00205983e-01, ...,\n",
       "        -3.24496073e-03,  7.57352554e-14,  3.19159071e-17],\n",
       "       [ 5.89706098e-01,  1.15158169e+00, -1.61723795e-01, ...,\n",
       "        -2.54672723e-03,  4.75096897e-15,  7.41162803e-18],\n",
       "       [ 1.01854256e+00, -5.25059449e-01,  1.98684010e-01, ...,\n",
       "        -4.96522294e-03, -9.83309894e-17, -1.31885732e-16],\n",
       "       ...,\n",
       "       [-3.95829526e-01, -1.04940238e+00,  1.62748829e-01, ...,\n",
       "        -7.64226437e-03, -6.56451869e-17, -2.34569714e-17],\n",
       "       [ 1.29860413e+00,  3.04874654e-01, -2.65600036e-01, ...,\n",
       "        -3.33542248e-03,  2.21218561e-17,  2.15197058e-18],\n",
       "       [ 8.23396226e-01,  9.45471858e-01, -1.87946312e-01, ...,\n",
       "        -2.66653211e-03, -1.12486441e-17, -4.63003691e-18]])"
      ]
     },
     "execution_count": 23,
     "metadata": {},
     "output_type": "execute_result"
    }
   ],
   "source": [
    "pca = PCA(n_components=8)\n",
    "pca.fit_transform(df_clustering)"
   ]
  },
  {
   "cell_type": "code",
   "execution_count": 24,
   "metadata": {},
   "outputs": [
    {
     "name": "stdout",
     "output_type": "stream",
     "text": [
      "4\n"
     ]
    }
   ],
   "source": [
    "# Código rescatado de clase.\n",
    "def min_var(v,exp_var):\n",
    "    acc = 0\n",
    "    i=0\n",
    "    while acc < v:\n",
    "        acc += exp_var[i]\n",
    "        i += 1\n",
    "    return i\n",
    "\n",
    "## Calculamos las componentes para retener el 95% de la varianza del dataset original\n",
    "print(min_var(0.95, pca.explained_variance_ratio_))"
   ]
  },
  {
   "cell_type": "code",
   "execution_count": 25,
   "metadata": {},
   "outputs": [
    {
     "data": {
      "text/plain": [
       "[0.32721007950772335,\n",
       " 0.3421658282825325,\n",
       " 0.3071097354492918,\n",
       " 0.31134266583984976,\n",
       " 0.299849534691824,\n",
       " 0.3128757500053762,\n",
       " 0.30918492254573077,\n",
       " 0.31037335410548206]"
      ]
     },
     "execution_count": 25,
     "metadata": {},
     "output_type": "execute_result"
    }
   ],
   "source": [
    "pca_reducido = PCA(n_components=4)\n",
    "X_Reducido_Cluster = pca_reducido.fit_transform(df_clustering)\n",
    "list_k = list(range(2, 10))\n",
    "silhouette_scores = []\n",
    "for k in list_k:\n",
    "    km = KMeans(n_clusters=k)\n",
    "    preds = km.fit_predict(X_Reducido_Cluster)\n",
    "    silhouette_scores.append(silhouette_score(X_Reducido_Cluster, preds))\n",
    "\n",
    "best_k = list_k[np.argmax(silhouette_scores)]\n",
    "best_k\n",
    "silhouette_scores"
   ]
  },
  {
   "cell_type": "code",
   "execution_count": 26,
   "metadata": {},
   "outputs": [
    {
     "data": {
      "image/png": "[encoded data removed]",
      "text/plain": [
       "<Figure size 640x480 with 1 Axes>"
      ]
     },
     "metadata": {},
     "output_type": "display_data"
    }
   ],
   "source": [
    "kmeans = KMeans(n_clusters=best_k)\n",
    "kmeans.fit(X_Reducido_Cluster)\n",
    "\n",
    "predictions = kmeans.predict(X_Reducido_Cluster)\n",
    "\n",
    "silhouette_score_value = silhouette_score(X_Reducido_Cluster, predictions)\n",
    "\n",
    "plt.scatter(X_Reducido_Cluster[:, 0], X_Reducido_Cluster[:, 1], c=predictions, cmap='viridis')\n",
    "plt.xlabel('Feature 1')\n",
    "plt.ylabel('Feature 2')\n",
    "plt.title('KMeans Clustering Results in 2D\\nSilhouette Score: {0:.3f}'.format(silhouette_score_value))\n",
    "plt.show()"
   ]
  },
  {
   "cell_type": "markdown",
   "metadata": {},
   "source": [
    "Creamos una nueva columna en el dataset con los clusters detectados"
   ]
  },
  {
   "cell_type": "code",
   "execution_count": 27,
   "metadata": {},
   "outputs": [
    {
     "name": "stderr",
     "output_type": "stream",
     "text": [
      "C:\\Users\\U\\AppData\\Local\\Temp\\ipykernel_7388\\4184206296.py:1: SettingWithCopyWarning: \n",
      "A value is trying to be set on a copy of a slice from a DataFrame.\n",
      "Try using .loc[row_indexer,col_indexer] = value instead\n",
      "\n",
      "See the caveats in the documentation: https://pandas.pydata.org/pandas-docs/stable/user_guide/indexing.html#returning-a-view-versus-a-copy\n",
      "  df_clustering['segmentacion_cliente'] = predictions\n"
     ]
    },
    {
     "data": {
      "text/html": [
       "<div>\n",
       "<style scoped>\n",
       "    .dataframe tbody tr th:only-of-type {\n",
       "        vertical-align: middle;\n",
       "    }\n",
       "\n",
       "    .dataframe tbody tr th {\n",
       "        vertical-align: top;\n",
       "    }\n",
       "\n",
       "    .dataframe thead th {\n",
       "        text-align: right;\n",
       "    }\n",
       "</style>\n",
       "<table border=\"1\" class=\"dataframe\">\n",
       "  <thead>\n",
       "    <tr style=\"text-align: right;\">\n",
       "      <th></th>\n",
       "      <th>Education_Level_High</th>\n",
       "      <th>Education_Level_Low</th>\n",
       "      <th>Education_Level_Middle</th>\n",
       "      <th>Living_Status_Living Alone</th>\n",
       "      <th>Living_Status_Living with Others</th>\n",
       "      <th>Age</th>\n",
       "      <th>Is_Parent</th>\n",
       "      <th>Income</th>\n",
       "      <th>segmentacion_cliente</th>\n",
       "    </tr>\n",
       "  </thead>\n",
       "  <tbody>\n",
       "    <tr>\n",
       "      <th>0</th>\n",
       "      <td>1</td>\n",
       "      <td>0</td>\n",
       "      <td>0</td>\n",
       "      <td>0</td>\n",
       "      <td>1</td>\n",
       "      <td>0.983636</td>\n",
       "      <td>0</td>\n",
       "      <td>0.295770</td>\n",
       "      <td>1</td>\n",
       "    </tr>\n",
       "    <tr>\n",
       "      <th>1</th>\n",
       "      <td>1</td>\n",
       "      <td>0</td>\n",
       "      <td>0</td>\n",
       "      <td>0</td>\n",
       "      <td>1</td>\n",
       "      <td>1.233518</td>\n",
       "      <td>1</td>\n",
       "      <td>-0.284885</td>\n",
       "      <td>1</td>\n",
       "    </tr>\n",
       "    <tr>\n",
       "      <th>2</th>\n",
       "      <td>1</td>\n",
       "      <td>0</td>\n",
       "      <td>0</td>\n",
       "      <td>0</td>\n",
       "      <td>1</td>\n",
       "      <td>0.317283</td>\n",
       "      <td>0</td>\n",
       "      <td>0.959186</td>\n",
       "      <td>0</td>\n",
       "    </tr>\n",
       "    <tr>\n",
       "      <th>3</th>\n",
       "      <td>1</td>\n",
       "      <td>0</td>\n",
       "      <td>0</td>\n",
       "      <td>0</td>\n",
       "      <td>1</td>\n",
       "      <td>-1.265305</td>\n",
       "      <td>1</td>\n",
       "      <td>-1.254678</td>\n",
       "      <td>2</td>\n",
       "    </tr>\n",
       "    <tr>\n",
       "      <th>4</th>\n",
       "      <td>1</td>\n",
       "      <td>0</td>\n",
       "      <td>0</td>\n",
       "      <td>0</td>\n",
       "      <td>1</td>\n",
       "      <td>-1.015423</td>\n",
       "      <td>1</td>\n",
       "      <td>0.303401</td>\n",
       "      <td>0</td>\n",
       "    </tr>\n",
       "  </tbody>\n",
       "</table>\n",
       "</div>"
      ],
      "text/plain": [
       "   Education_Level_High  Education_Level_Low  Education_Level_Middle  \\\n",
       "0                     1                    0                       0   \n",
       "1                     1                    0                       0   \n",
       "2                     1                    0                       0   \n",
       "3                     1                    0                       0   \n",
       "4                     1                    0                       0   \n",
       "\n",
       "   Living_Status_Living Alone  Living_Status_Living with Others       Age  \\\n",
       "0                           0                                 1  0.983636   \n",
       "1                           0                                 1  1.233518   \n",
       "2                           0                                 1  0.317283   \n",
       "3                           0                                 1 -1.265305   \n",
       "4                           0                                 1 -1.015423   \n",
       "\n",
       "   Is_Parent    Income  segmentacion_cliente  \n",
       "0          0  0.295770                     1  \n",
       "1          1 -0.284885                     1  \n",
       "2          0  0.959186                     0  \n",
       "3          1 -1.254678                     2  \n",
       "4          1  0.303401                     0  "
      ]
     },
     "execution_count": 27,
     "metadata": {},
     "output_type": "execute_result"
    }
   ],
   "source": [
    "df_clustering['segmentacion_cliente'] = predictions\n",
    "df_clustering.head()"
   ]
  },
  {
   "cell_type": "code",
   "execution_count": 28,
   "metadata": {},
   "outputs": [],
   "source": [
    "df_clustering.loc[:, 'Age'] = df_clustering['Age'] * column_stddevs['Age'] + column_means['Age']\n",
    "df_clustering.loc[:, 'Income'] = df_clustering['Income'] * column_stddevs['Income'] + column_means['Income']"
   ]
  },
  {
   "cell_type": "code",
   "execution_count": 30,
   "metadata": {},
   "outputs": [
    {
     "name": "stdout",
     "output_type": "stream",
     "text": [
      "Index(['Education_Level_High', 'Education_Level_Low', 'Education_Level_Middle',\n",
      "       'Living_Status_Living Alone', 'Living_Status_Living with Others', 'Age',\n",
      "       'Is_Parent', 'Income', 'segmentacion_cliente'],\n",
      "      dtype='object')\n"
     ]
    }
   ],
   "source": [
    "print(df_clustering.columns)"
   ]
  },
  {
   "cell_type": "markdown",
   "metadata": {},
   "source": [
    "**Análisis por Ingreso (Income)**"
   ]
  },
  {
   "cell_type": "code",
   "execution_count": 29,
   "metadata": {},
   "outputs": [
    {
     "name": "stdout",
     "output_type": "stream",
     "text": [
      "                      count          mean           std           min  \\\n",
      "segmentacion_cliente                                                    \n",
      "0                     585.0  70589.638667  10788.672698  48788.216450   \n",
      "1                     720.0  59904.693420  14821.415720  15024.300868   \n",
      "2                     828.0  32328.418016  10253.978530   7489.534424   \n",
      "\n",
      "                               25%           50%           75%           max  \n",
      "segmentacion_cliente                                                          \n",
      "0                     61907.292074  70341.269328  78937.284571  96886.492567  \n",
      "1                     49464.124909  59641.760945  70841.136517  94651.968707  \n",
      "2                     24462.013437  33034.523168  40555.786446  52413.066257  \n"
     ]
    },
    {
     "data": {
      "image/png": "[encoded data removed]",
      "text/plain": [
       "<Figure size 1000x600 with 1 Axes>"
      ]
     },
     "metadata": {},
     "output_type": "display_data"
    }
   ],
   "source": [
    "resumen_por_segmento_ingresos = df_clustering.groupby('segmentacion_cliente')['Income'].describe()\n",
    "print(resumen_por_segmento_ingresos)\n",
    "\n",
    "plt.figure(figsize=(10, 6))\n",
    "sns.boxplot(x='segmentacion_cliente', y='Income', data=df_clustering)\n",
    "plt.title('Distribución de ingresos por segmento de cliente')\n",
    "plt.xlabel('Segmento de Cliente')\n",
    "plt.ylabel('Ingreso')\n",
    "plt.show()"
   ]
  },
  {
   "cell_type": "markdown",
   "metadata": {},
   "source": [
    "**Análisis por Edad (Age)**"
   ]
  },
  {
   "cell_type": "code",
   "execution_count": 32,
   "metadata": {},
   "outputs": [
    {
     "name": "stdout",
     "output_type": "stream",
     "text": [
      "                      count          mean           std           min  \\\n",
      "segmentacion_cliente                                                    \n",
      "0                     828.0  32328.418016  10253.978530   7489.534424   \n",
      "1                     721.0  59899.215200  14811.849936  15024.300868   \n",
      "2                     584.0  70614.698157  10780.867797  48788.216450   \n",
      "\n",
      "                               25%           50%           75%           max  \n",
      "segmentacion_cliente                                                          \n",
      "0                     24462.013437  33034.523168  40555.786446  52413.066257  \n",
      "1                     49475.377547  59595.750159  70796.376023  94651.968707  \n",
      "2                     61916.294185  70362.274253  78990.296999  96886.492567  \n"
     ]
    },
    {
     "data": {
      "image/png": "[encoded data removed]",
      "text/plain": [
       "<Figure size 1000x600 with 1 Axes>"
      ]
     },
     "metadata": {},
     "output_type": "display_data"
    }
   ],
   "source": [
    "resumen_por_segmento_edad = df_clustering.groupby('segmentacion_cliente')['Age'].describe()\n",
    "print(resumen_por_segmento_ingresos)\n",
    "\n",
    "plt.figure(figsize=(10, 6))\n",
    "sns.boxplot(x='segmentacion_cliente', y='Age', data=df_clustering)\n",
    "plt.title('Distribución de edad por segmento de cliente')\n",
    "plt.xlabel('Segmento de Cliente')\n",
    "plt.ylabel('Edad')\n",
    "plt.show()"
   ]
  },
  {
   "cell_type": "markdown",
   "metadata": {},
   "source": [
    "**Análisis si es padre/madre**"
   ]
  },
  {
   "cell_type": "code",
   "execution_count": 33,
   "metadata": {},
   "outputs": [
    {
     "name": "stdout",
     "output_type": "stream",
     "text": [
      "Porcentaje de padres por segmento:\n",
      "segmentacion_cliente\n",
      "0    88.888889\n",
      "1    70.457698\n",
      "2    50.171233\n",
      "Name: Is_Parent, dtype: float64\n"
     ]
    },
    {
     "data": {
      "image/png": "[encoded data removed]",
      "text/plain": [
       "<Figure size 1000x600 with 1 Axes>"
      ]
     },
     "metadata": {},
     "output_type": "display_data"
    }
   ],
   "source": [
    "parent_percentage_by_segment = df_clustering.groupby('segmentacion_cliente')['Is_Parent'].mean() * 100\n",
    "\n",
    "print(\"Porcentaje de padres por segmento:\")\n",
    "print(parent_percentage_by_segment)\n",
    "\n",
    "plt.figure(figsize=(10, 6))\n",
    "parent_percentage_by_segment.plot(kind='bar')\n",
    "plt.title('Porcentaje de padres por segmento de cliente')\n",
    "plt.xlabel('Segmento de Cliente')\n",
    "plt.ylabel('Porcentaje de Padres')\n",
    "plt.xticks(ticks=[0, 1, 2], labels=['Segmento 0', 'Segmento 1', 'Segmento 2'], rotation=0)\n",
    "plt.show()\n"
   ]
  },
  {
   "cell_type": "markdown",
   "metadata": {},
   "source": [
    "**Análisis por Educación**"
   ]
  },
  {
   "cell_type": "code",
   "execution_count": 34,
   "metadata": {},
   "outputs": [
    {
     "name": "stdout",
     "output_type": "stream",
     "text": [
      "Porcentaje de niveles de educación por segmento:\n",
      "                      Education_Level_High  Education_Level_Middle  \\\n",
      "segmentacion_cliente                                                 \n",
      "0                                81.642512                6.038647   \n",
      "1                                93.758669                0.138696   \n",
      "2                                91.609589                0.000000   \n",
      "\n",
      "                      Education_Level_Low  \n",
      "segmentacion_cliente                       \n",
      "0                               12.318841  \n",
      "1                                6.102635  \n",
      "2                                8.390411  \n"
     ]
    },
    {
     "data": {
      "image/png": "[encoded data removed]",
      "text/plain": [
       "<Figure size 1000x600 with 1 Axes>"
      ]
     },
     "metadata": {},
     "output_type": "display_data"
    }
   ],
   "source": [
    "# Calcular el porcentaje de los niveles de educación por segmento\n",
    "education_levels = ['Education_Level_High', 'Education_Level_Middle', 'Education_Level_Low']\n",
    "education_percentage_by_segment = df_clustering.groupby('segmentacion_cliente')[education_levels].mean() * 100\n",
    "\n",
    "print(\"Porcentaje de niveles de educación por segmento:\")\n",
    "print(education_percentage_by_segment)\n",
    "\n",
    "# Crear un gráfico de barras apiladas para visualizar el porcentaje de niveles de educación por segmento\n",
    "education_percentage_by_segment.plot(kind='bar', stacked=True, figsize=(10, 6))\n",
    "plt.title('Distribución del Nivel de Educación por Segmento de Cliente')\n",
    "plt.xlabel('Segmento de Cliente')\n",
    "plt.ylabel('Porcentaje')\n",
    "plt.xticks(ticks=[0, 1, 2], labels=['Segmento 0', 'Segmento 1', 'Segmento 2'], rotation=0)\n",
    "plt.legend(title='Nivel de Educación')\n",
    "plt.show()\n"
   ]
  },
  {
   "cell_type": "markdown",
   "metadata": {},
   "source": [
    "**Análisis por convivencia**"
   ]
  },
  {
   "cell_type": "code",
   "execution_count": 35,
   "metadata": {},
   "outputs": [
    {
     "name": "stdout",
     "output_type": "stream",
     "text": [
      "Porcentaje de convivencia por segmento:\n",
      "                      Living_Status_Living Alone  \\\n",
      "segmentacion_cliente                               \n",
      "0                                       0.483092   \n",
      "1                                       0.277393   \n",
      "2                                       0.171233   \n",
      "\n",
      "                      Living_Status_Living with Others  \n",
      "segmentacion_cliente                                    \n",
      "0                                            99.516908  \n",
      "1                                            99.722607  \n",
      "2                                            99.828767  \n"
     ]
    },
    {
     "data": {
      "image/png": "[encoded data removed]",
      "text/plain": [
       "<Figure size 1000x600 with 1 Axes>"
      ]
     },
     "metadata": {},
     "output_type": "display_data"
    }
   ],
   "source": [
    "# Calcular el porcentaje de la convivencia por segmento\n",
    "living_status = ['Living_Status_Living Alone', 'Living_Status_Living with Others']\n",
    "living_percentage_by_segment = df_clustering.groupby('segmentacion_cliente')[living_status].mean() * 100\n",
    "\n",
    "print(\"Porcentaje de convivencia por segmento:\")\n",
    "print(living_percentage_by_segment)\n",
    "\n",
    "# Crear un gráfico de barras apiladas para visualizar el porcentaje de convivencia por segmento\n",
    "living_percentage_by_segment.plot(kind='bar', stacked=True, figsize=(10, 6))\n",
    "plt.title('Distribución de la Convivencia por Segmento de Cliente')\n",
    "plt.xlabel('Segmento de Cliente')\n",
    "plt.ylabel('Porcentaje')\n",
    "plt.xticks(ticks=[0, 1, 2], labels=['Segmento 0', 'Segmento 1', 'Segmento 2'], rotation=0)\n",
    "plt.legend(title='Convivencia')\n",
    "plt.show()\n"
   ]
  },
  {
   "cell_type": "code",
   "execution_count": 36,
   "metadata": {},
   "outputs": [],
   "source": [
    "#TODO Ver una manera más grafica de mostrar esto y resumirlo"
   ]
  },
  {
   "cell_type": "markdown",
   "metadata": {},
   "source": [
    "## 3. MLP"
   ]
  },
  {
   "cell_type": "markdown",
   "metadata": {},
   "source": [
    "### Adaptación del dataset"
   ]
  },
  {
   "cell_type": "code",
   "execution_count": 30,
   "metadata": {},
   "outputs": [],
   "source": [
    "df_mlp = dataset_limpio.copy()\n",
    "df_mlp['segmentacion_cliente'] = predictions\n",
    "dfl_mlp = df_mlp.drop([\"Education_Level_High\", \"Education_Level_Low\", \"Education_Level_Middle\",\n",
    "                    \"Living_Status_Living Alone\",\"Living_Status_Living with Others\",'Age',\"Is_Parent\", \"Income\"], axis=1)\n",
    "dfl_mlp = pd.get_dummies(dfl_mlp, columns=[\"segmentacion_cliente\"])\n",
    "dfl_mlp[\"segmentacion_cliente_0\"] = dfl_mlp[\"segmentacion_cliente_0\"].astype(int)\n",
    "dfl_mlp[\"segmentacion_cliente_1\"] = dfl_mlp[\"segmentacion_cliente_1\"].astype(int)\n",
    "dfl_mlp[\"segmentacion_cliente_2\"] = dfl_mlp[\"segmentacion_cliente_2\"].astype(int)"
   ]
  },
  {
   "cell_type": "markdown",
   "metadata": {},
   "source": [
    "### Partición training y test"
   ]
  },
  {
   "cell_type": "code",
   "execution_count": 38,
   "metadata": {},
   "outputs": [
    {
     "name": "stdout",
     "output_type": "stream",
     "text": [
      "Tamaño del conjunto de entrenamiento: 1493\n",
      "Tamaño del conjunto de prueba: 640\n"
     ]
    }
   ],
   "source": [
    "X = dfl_mlp.drop(columns=['Response'])\n",
    "y = dfl_mlp['Response']\n",
    "\n",
    "X_train, X_test, y_train, y_test = train_test_split(X, y, test_size=0.3, random_state=42)\n",
    "\n",
    "print(\"Tamaño del conjunto de entrenamiento:\", len(X_train))\n",
    "print(\"Tamaño del conjunto de prueba:\", len(X_test))"
   ]
  },
  {
   "cell_type": "code",
   "execution_count": 39,
   "metadata": {},
   "outputs": [],
   "source": [
    "# def construir_modelo_model(input_shape, capas1, capas2):\n",
    "#     inputs = Input(shape = input_shape)\n",
    "#     dense1 = Dense(capas1, activation=\"relu\")\n",
    "#     dense2 = Dense(capas2, activation=\"relu\")\n",
    "#     dense3 = Dense(1, activation=\"sigmoid\")\n",
    "#     x = dense1(inputs)\n",
    "#     x = dense2(x)\n",
    "#     outputs = dense3(x)\n",
    "#     model = Model(inputs=inputs, outputs=outputs)\n",
    "#     return model\n",
    "\n",
    "# def construir_modelo_sequential(input_shape, capas1, capas2):\n",
    "#     model = Sequential()\n",
    "#     model.add(Dense(capas1, activation=\"relu\", input_shape = input_shape))\n",
    "#     model.add(Dense(capas2, activation=\"relu\"))\n",
    "#     model.add(Dense(1, activation=\"sigmoid\"))\n",
    "#     return model\n",
    "\n",
    "def create_model_model(input_shape, capas1, capas2):\n",
    "    inputs = Input(shape=input_shape)\n",
    "    x = Dense(capas1, activation=\"relu\")(inputs)\n",
    "    x = Dense(capas2, activation=\"relu\")(x)\n",
    "    outputs = Dense(1, activation=\"sigmoid\")(x)\n",
    "    model = Model(inputs=inputs, outputs=outputs)\n",
    "    model.compile(optimizer='adam', loss='binary_crossentropy', metrics=['accuracy'])\n",
    "    return model\n",
    "\n",
    "def create_model_sequential(input_shape, capas1, capas2):\n",
    "    model = Sequential()\n",
    "    model.add(Dense(capas1, activation=\"relu\", input_shape=input_shape))\n",
    "    model.add(Dense(capas2, activation=\"relu\"))\n",
    "    model.add(Dense(1, activation=\"sigmoid\"))\n",
    "    model.compile(optimizer='adam', loss='binary_crossentropy', metrics=['accuracy'])\n",
    "    return model\n"
   ]
  },
  {
   "cell_type": "code",
   "execution_count": 40,
   "metadata": {},
   "outputs": [
    {
     "name": "stderr",
     "output_type": "stream",
     "text": [
      "C:\\Users\\U\\AppData\\Roaming\\Python\\Python310\\site-packages\\joblib\\externals\\loky\\process_executor.py:752: UserWarning: A worker stopped while some jobs were given to the executor. This can be caused by a too short worker timeout or by a memory leak.\n",
      "  warnings.warn(\n"
     ]
    },
    {
     "name": "stdout",
     "output_type": "stream",
     "text": [
      "Best Parameters for model model: {'batch_size': 10, 'epochs': 10, 'model__capas1': 50, 'model__capas2': 100}\n",
      "Best Accuracy for model model: 0.884111900317568\n",
      "Best Parameters for sequential model: {'batch_size': 20, 'epochs': 10, 'model__capas1': 150, 'model__capas2': 100}\n",
      "Best Accuracy for sequential model: 0.8834371691999386\n"
     ]
    }
   ],
   "source": [
    "param_grid = {\n",
    "    'model__capas1': [50, 100, 150], \n",
    "    'model__capas2': [20, 50, 100], \n",
    "    'batch_size': [10, 20, 50],  \n",
    "    'epochs': [10, 50, 100]\n",
    "}\n",
    "\n",
    "\n",
    "model_model = KerasClassifier(model=create_model_model, input_shape=(X_train.shape[1],), verbose=0)\n",
    "model_sequential = KerasClassifier(model=create_model_sequential, input_shape=(X_train.shape[1],), verbose=0)\n",
    "\n",
    "grid_model = GridSearchCV(estimator=model_model, param_grid=param_grid, n_jobs=-1, cv=3)\n",
    "grid_sequential = GridSearchCV(estimator=model_sequential, param_grid=param_grid, n_jobs=-1, cv=3)\n",
    "\n",
    "\n",
    "grid_model_result = grid_model.fit(X_train, y_train)\n",
    "grid_sequential_result = grid_sequential.fit(X_train, y_train)\n",
    "\n",
    "print(\"Best Parameters for model model:\", grid_model_result.best_params_)\n",
    "print(\"Best Accuracy for model model:\", grid_model_result.best_score_)\n",
    "\n",
    "print(\"Best Parameters for sequential model:\", grid_sequential_result.best_params_)\n",
    "print(\"Best Accuracy for sequential model:\", grid_sequential_result.best_score_)"
   ]
  },
  {
   "cell_type": "code",
   "execution_count": 41,
   "metadata": {},
   "outputs": [
    {
     "name": "stdout",
     "output_type": "stream",
     "text": [
      "Accuracy: 0.8797\n",
      "Precision: 0.6596\n",
      "Recall: 0.3370\n",
      "F1-score: 0.4460\n",
      "\n",
      "Classification Report:\n",
      "              precision    recall  f1-score   support\n",
      "\n",
      "           0       0.90      0.97      0.93       548\n",
      "           1       0.66      0.34      0.45        92\n",
      "\n",
      "    accuracy                           0.88       640\n",
      "   macro avg       0.78      0.65      0.69       640\n",
      "weighted avg       0.86      0.88      0.86       640\n",
      "\n",
      "Accuracy: 0.8875\n",
      "Precision: 0.6852\n",
      "Recall: 0.4022\n",
      "F1-score: 0.5068\n",
      "\n",
      "Classification Report:\n",
      "              precision    recall  f1-score   support\n",
      "\n",
      "           0       0.91      0.97      0.94       548\n",
      "           1       0.69      0.40      0.51        92\n",
      "\n",
      "    accuracy                           0.89       640\n",
      "   macro avg       0.80      0.69      0.72       640\n",
      "weighted avg       0.87      0.89      0.87       640\n",
      "\n"
     ]
    }
   ],
   "source": [
    "from sklearn.metrics import accuracy_score, classification_report, confusion_matrix, precision_score, recall_score, f1_score\n",
    "\n",
    "def evaluar_modelo(model: Sequential, X_test: pd.DataFrame, y_test: pd.Series):\n",
    "\n",
    "    y_pred = model.predict(X_test)\n",
    "\n",
    "    y_pred_binary = [1 if y > 0.5 else 0 for y in y_pred]\n",
    "\n",
    "    accuracy = accuracy_score(y_test, y_pred_binary)\n",
    "    precision = precision_score(y_test, y_pred_binary)\n",
    "    recall = recall_score(y_test, y_pred_binary)\n",
    "    f1 = f1_score(y_test, y_pred_binary)\n",
    "\n",
    "    print(f\"Accuracy: {accuracy:.4f}\")\n",
    "    print(f\"Precision: {precision:.4f}\")\n",
    "    print(f\"Recall: {recall:.4f}\")\n",
    "    print(f\"F1-score: {f1:.4f}\")\n",
    "\n",
    "    print(\"\\nClassification Report:\")\n",
    "    print(classification_report(y_test, y_pred_binary))\n",
    "\n",
    "    return y_pred_binary\n",
    "\n",
    "y_pred_binary_model = evaluar_modelo(grid_model_result, X_test, y_test)\n",
    "y_pred_binary_sequential = evaluar_modelo(grid_sequential_result, X_test, y_test)\n"
   ]
  },
  {
   "cell_type": "markdown",
   "metadata": {},
   "source": [
    "## 4. Regresión Logística"
   ]
  },
  {
   "cell_type": "markdown",
   "metadata": {},
   "source": [
    "### Con el mismo df que MLP"
   ]
  },
  {
   "cell_type": "code",
   "execution_count": 31,
   "metadata": {},
   "outputs": [],
   "source": [
    "df_regresion = dfl_mlp.copy()"
   ]
  },
  {
   "cell_type": "markdown",
   "metadata": {},
   "source": [
    "### Dividimos el dataset para cada uno de los clusters"
   ]
  },
  {
   "cell_type": "code",
   "execution_count": 41,
   "metadata": {},
   "outputs": [
    {
     "data": {
      "text/html": [
       "<div>\n",
       "<style scoped>\n",
       "    .dataframe tbody tr th:only-of-type {\n",
       "        vertical-align: middle;\n",
       "    }\n",
       "\n",
       "    .dataframe tbody tr th {\n",
       "        vertical-align: top;\n",
       "    }\n",
       "\n",
       "    .dataframe thead th {\n",
       "        text-align: right;\n",
       "    }\n",
       "</style>\n",
       "<table border=\"1\" class=\"dataframe\">\n",
       "  <thead>\n",
       "    <tr style=\"text-align: right;\">\n",
       "      <th></th>\n",
       "      <th>Recency</th>\n",
       "      <th>MntWines</th>\n",
       "      <th>MntFruits</th>\n",
       "      <th>MntMeatProducts</th>\n",
       "      <th>MntFishProducts</th>\n",
       "      <th>MntSweetProducts</th>\n",
       "      <th>MntGoldProds</th>\n",
       "      <th>NumDealsPurchases</th>\n",
       "      <th>NumWebPurchases</th>\n",
       "      <th>NumCatalogPurchases</th>\n",
       "      <th>...</th>\n",
       "      <th>AcceptedCmp2</th>\n",
       "      <th>Complain</th>\n",
       "      <th>Response</th>\n",
       "      <th>Total_Campaigns_Accepted</th>\n",
       "      <th>Total_Spent</th>\n",
       "      <th>avg_web_visits</th>\n",
       "      <th>online_purchase_ratio</th>\n",
       "      <th>segmentacion_cliente_0</th>\n",
       "      <th>segmentacion_cliente_1</th>\n",
       "      <th>segmentacion_cliente_2</th>\n",
       "    </tr>\n",
       "  </thead>\n",
       "  <tbody>\n",
       "    <tr>\n",
       "      <th>0</th>\n",
       "      <td>0.312911</td>\n",
       "      <td>0.977323</td>\n",
       "      <td>1.539145</td>\n",
       "      <td>1.749007</td>\n",
       "      <td>2.453021</td>\n",
       "      <td>1.499843</td>\n",
       "      <td>0.879225</td>\n",
       "      <td>0.409245</td>\n",
       "      <td>1.512997</td>\n",
       "      <td>2.676257</td>\n",
       "      <td>...</td>\n",
       "      <td>-0.113228</td>\n",
       "      <td>0</td>\n",
       "      <td>1</td>\n",
       "      <td>-0.439215</td>\n",
       "      <td>1.457658</td>\n",
       "      <td>0.755324</td>\n",
       "      <td>0.286046</td>\n",
       "      <td>0</td>\n",
       "      <td>1</td>\n",
       "      <td>0</td>\n",
       "    </tr>\n",
       "    <tr>\n",
       "      <th>1</th>\n",
       "      <td>-0.377805</td>\n",
       "      <td>-0.879167</td>\n",
       "      <td>-0.640118</td>\n",
       "      <td>-0.738339</td>\n",
       "      <td>-0.652556</td>\n",
       "      <td>-0.638472</td>\n",
       "      <td>-0.737607</td>\n",
       "      <td>-0.150678</td>\n",
       "      <td>-1.167739</td>\n",
       "      <td>-0.597358</td>\n",
       "      <td>...</td>\n",
       "      <td>-0.113228</td>\n",
       "      <td>0</td>\n",
       "      <td>0</td>\n",
       "      <td>-0.439215</td>\n",
       "      <td>-0.954272</td>\n",
       "      <td>-0.091290</td>\n",
       "      <td>-0.678110</td>\n",
       "      <td>0</td>\n",
       "      <td>1</td>\n",
       "      <td>0</td>\n",
       "    </tr>\n",
       "    <tr>\n",
       "      <th>2</th>\n",
       "      <td>-0.792234</td>\n",
       "      <td>0.355518</td>\n",
       "      <td>0.562234</td>\n",
       "      <td>-0.180989</td>\n",
       "      <td>1.338667</td>\n",
       "      <td>-0.146905</td>\n",
       "      <td>-0.027778</td>\n",
       "      <td>-0.710601</td>\n",
       "      <td>1.512997</td>\n",
       "      <td>-0.233623</td>\n",
       "      <td>...</td>\n",
       "      <td>-0.113228</td>\n",
       "      <td>0</td>\n",
       "      <td>0</td>\n",
       "      <td>-0.439215</td>\n",
       "      <td>0.313788</td>\n",
       "      <td>-0.567510</td>\n",
       "      <td>0.636648</td>\n",
       "      <td>1</td>\n",
       "      <td>0</td>\n",
       "      <td>0</td>\n",
       "    </tr>\n",
       "    <tr>\n",
       "      <th>3</th>\n",
       "      <td>-0.792234</td>\n",
       "      <td>-0.879167</td>\n",
       "      <td>-0.564971</td>\n",
       "      <td>-0.673852</td>\n",
       "      <td>-0.506411</td>\n",
       "      <td>-0.589315</td>\n",
       "      <td>-0.757324</td>\n",
       "      <td>-0.150678</td>\n",
       "      <td>-0.784776</td>\n",
       "      <td>-0.961093</td>\n",
       "      <td>...</td>\n",
       "      <td>-0.113228</td>\n",
       "      <td>0</td>\n",
       "      <td>0</td>\n",
       "      <td>-0.439215</td>\n",
       "      <td>-0.925948</td>\n",
       "      <td>0.332017</td>\n",
       "      <td>0.023094</td>\n",
       "      <td>0</td>\n",
       "      <td>0</td>\n",
       "      <td>1</td>\n",
       "    </tr>\n",
       "    <tr>\n",
       "      <th>4</th>\n",
       "      <td>1.556198</td>\n",
       "      <td>-0.397193</td>\n",
       "      <td>0.411940</td>\n",
       "      <td>-0.222445</td>\n",
       "      <td>0.151241</td>\n",
       "      <td>0.000565</td>\n",
       "      <td>-0.560149</td>\n",
       "      <td>1.529091</td>\n",
       "      <td>0.364110</td>\n",
       "      <td>0.130112</td>\n",
       "      <td>...</td>\n",
       "      <td>-0.113228</td>\n",
       "      <td>0</td>\n",
       "      <td>0</td>\n",
       "      <td>-0.439215</td>\n",
       "      <td>-0.347477</td>\n",
       "      <td>-0.091290</td>\n",
       "      <td>0.286046</td>\n",
       "      <td>1</td>\n",
       "      <td>0</td>\n",
       "      <td>0</td>\n",
       "    </tr>\n",
       "  </tbody>\n",
       "</table>\n",
       "<p>5 rows × 26 columns</p>\n",
       "</div>"
      ],
      "text/plain": [
       "    Recency  MntWines  MntFruits  MntMeatProducts  MntFishProducts  \\\n",
       "0  0.312911  0.977323   1.539145         1.749007         2.453021   \n",
       "1 -0.377805 -0.879167  -0.640118        -0.738339        -0.652556   \n",
       "2 -0.792234  0.355518   0.562234        -0.180989         1.338667   \n",
       "3 -0.792234 -0.879167  -0.564971        -0.673852        -0.506411   \n",
       "4  1.556198 -0.397193   0.411940        -0.222445         0.151241   \n",
       "\n",
       "   MntSweetProducts  MntGoldProds  NumDealsPurchases  NumWebPurchases  \\\n",
       "0          1.499843      0.879225           0.409245         1.512997   \n",
       "1         -0.638472     -0.737607          -0.150678        -1.167739   \n",
       "2         -0.146905     -0.027778          -0.710601         1.512997   \n",
       "3         -0.589315     -0.757324          -0.150678        -0.784776   \n",
       "4          0.000565     -0.560149           1.529091         0.364110   \n",
       "\n",
       "   NumCatalogPurchases  ...  AcceptedCmp2  Complain  Response  \\\n",
       "0             2.676257  ...     -0.113228         0         1   \n",
       "1            -0.597358  ...     -0.113228         0         0   \n",
       "2            -0.233623  ...     -0.113228         0         0   \n",
       "3            -0.961093  ...     -0.113228         0         0   \n",
       "4             0.130112  ...     -0.113228         0         0   \n",
       "\n",
       "   Total_Campaigns_Accepted  Total_Spent  avg_web_visits  \\\n",
       "0                 -0.439215     1.457658        0.755324   \n",
       "1                 -0.439215    -0.954272       -0.091290   \n",
       "2                 -0.439215     0.313788       -0.567510   \n",
       "3                 -0.439215    -0.925948        0.332017   \n",
       "4                 -0.439215    -0.347477       -0.091290   \n",
       "\n",
       "   online_purchase_ratio  segmentacion_cliente_0  segmentacion_cliente_1  \\\n",
       "0               0.286046                       0                       1   \n",
       "1              -0.678110                       0                       1   \n",
       "2               0.636648                       1                       0   \n",
       "3               0.023094                       0                       0   \n",
       "4               0.286046                       1                       0   \n",
       "\n",
       "   segmentacion_cliente_2  \n",
       "0                       0  \n",
       "1                       0  \n",
       "2                       0  \n",
       "3                       1  \n",
       "4                       0  \n",
       "\n",
       "[5 rows x 26 columns]"
      ]
     },
     "execution_count": 41,
     "metadata": {},
     "output_type": "execute_result"
    }
   ],
   "source": [
    "df_regresion.head()"
   ]
  },
  {
   "cell_type": "code",
   "execution_count": 42,
   "metadata": {},
   "outputs": [],
   "source": [
    "df_regresion_0 = df_regresion[df_regresion['segmentacion_cliente_0'] == 1]\n",
    "df_regresion_1 = df_regresion[df_regresion['segmentacion_cliente_1'] == 1]\n",
    "df_regresion_2 = df_regresion[df_regresion['segmentacion_cliente_2'] == 1]"
   ]
  },
  {
   "cell_type": "code",
   "execution_count": 45,
   "metadata": {},
   "outputs": [],
   "source": [
    "lista_df = [df_regresion_0, df_regresion_1, df_regresion_2]"
   ]
  },
  {
   "cell_type": "markdown",
   "metadata": {},
   "source": [
    "### Partición train y test"
   ]
  },
  {
   "cell_type": "code",
   "execution_count": 74,
   "metadata": {},
   "outputs": [],
   "source": [
    "from imblearn.over_sampling import SMOTE\n",
    "from imblearn.over_sampling import ADASYN\n",
    "\n",
    "from sklearn.linear_model import LogisticRegression"
   ]
  },
  {
   "cell_type": "code",
   "execution_count": 75,
   "metadata": {},
   "outputs": [],
   "source": [
    "def crear_evaluar_modelo(df):\n",
    "    X = df.drop(columns=['Response'])\n",
    "    y = df['Response']\n",
    "    # X_train, X_test, y_train, y_test = train_test_split(X, y, test_size=0.2, random_state=42)\n",
    "    # print(\"Tamaño del conjunto de entrenamiento:\", len(X_train))\n",
    "    # print(\"Tamaño del conjunto de prueba:\", len(X_test))\n",
    "\n",
    "    # Aplicar SMOTE solo al conjunto de entrenamiento\n",
    "    smote = SMOTE(random_state=42)\n",
    "    X_resampled, y_resampled = smote.fit_resample(X, y)\n",
    "\n",
    "    \n",
    "    X_train, X_test, y_train, y_test = train_test_split(X_resampled, y_resampled, test_size=0.2, random_state=42)\n",
    "\n",
    "    # Verificar los porcentajes después del sobremuestreo\n",
    "    response_counts_resampled =  pd.Series(y_train).value_counts()\n",
    "    total_samples_resampled = len(y_train)\n",
    "    percentage_response_0_resampled = (response_counts_resampled[1] / total_samples_resampled) * 100\n",
    "    percentage_response_1_resampled = (response_counts_resampled[0] / total_samples_resampled) * 100\n",
    "\n",
    "    print(\"Porcentaje de Response 1 después del sobremuestreo:\", percentage_response_1_resampled)\n",
    "    print(\"Porcentaje de Response 0 después del sobremuestreo:\", percentage_response_0_resampled)\n",
    "\n",
    "    # Visualizar el balance de clases\n",
    "    plt.figure(figsize=(6, 4))\n",
    "    plt.bar(['Response 1', 'Response 0'], [percentage_response_1_resampled, percentage_response_0_resampled])\n",
    "    plt.xlabel('Clases')\n",
    "    plt.ylabel('Porcentaje de Ejemplos')\n",
    "    plt.title('Balance de Clases')\n",
    "    plt.show()\n",
    "\n",
    "    print(\"Tamaño del conjunto de entrenamiento:\", len(X_train))\n",
    "    print(\"Tamaño del conjunto de prueba:\", len(X_test))\n",
    "\n",
    "    # Creamos modelo\n",
    "    model = LogisticRegression()\n",
    "    model.fit(X_train, y_train)\n",
    "    model.score(X_test, y_test)\n",
    "\n",
    "    param_grid = {\n",
    "    'C': [0.001, 0.01, 0.1, 1, 10],\n",
    "    'penalty': ['l1', 'l2'],\n",
    "    'solver': ['liblinear', 'lbfgs', 'sag', 'newton-cg'],\n",
    "    'max_iter': [100, 200, 300]\n",
    "    }\n",
    "\n",
    "    grid_search = GridSearchCV(LogisticRegression(), param_grid, cv=5)\n",
    "    grid_search.fit(X_train, y_train)\n",
    "\n",
    "    best_params = grid_search.best_params_\n",
    "    best_score = grid_search.best_score_\n",
    "\n",
    "    print(\"Mejores parámetros:\", best_params)\n",
    "    print(\"Mejor puntuación en entrenamiento:\", best_score)\n",
    "\n",
    "    # Una vez que encuentres los mejores parámetros, puedes usarlos para entrenar el modelo final\n",
    "    best_clf = LogisticRegression(**best_params)\n",
    "    best_clf.fit(X_train, y_train)\n",
    "    test_score = best_clf.score(X_test, y_test)\n",
    "    print(\"Puntuación en el conjunto de prueba:\", test_score)\n",
    "\n",
    "    # Evaluamos\n",
    "    y_pred = best_clf.predict(X_test)\n",
    "\n",
    "    # Evaluar rendimiento del modelo\n",
    "    accuracy = accuracy_score(y_test, y_pred)\n",
    "    classification_report_result = classification_report(y_test, y_pred)\n",
    "    conf_matrix = confusion_matrix(y_test, y_pred)\n",
    "\n",
    "    # Imprimir resultados\n",
    "    print(\"Accuracy:\", accuracy)\n",
    "    print(\"\\nClassification Report: \\n\", classification_report_result)\n",
    "    print(\"\\nConfusion Matrix: \\n\", conf_matrix)\n",
    "    print(\"-\"*100)\n",
    "    print(\"\")"
   ]
  },
  {
   "cell_type": "code",
   "execution_count": 76,
   "metadata": {},
   "outputs": [
    {
     "name": "stdout",
     "output_type": "stream",
     "text": [
      "Porcentaje de Response 1 después del sobremuestreo: 50.0\n",
      "Porcentaje de Response 0 después del sobremuestreo: 50.0\n"
     ]
    },
    {
     "data": {
      "image/png": "[encoded data removed]",
      "text/plain": [
       "<Figure size 600x400 with 1 Axes>"
      ]
     },
     "metadata": {},
     "output_type": "display_data"
    },
    {
     "name": "stdout",
     "output_type": "stream",
     "text": [
      "Tamaño del conjunto de entrenamiento: 742\n",
      "Tamaño del conjunto de prueba: 186\n"
     ]
    },
    {
     "name": "stderr",
     "output_type": "stream",
     "text": [
      "C:\\Users\\U\\AppData\\Roaming\\Python\\Python310\\site-packages\\sklearn\\linear_model\\_sag.py:350: ConvergenceWarning: The max_iter was reached which means the coef_ did not converge\n",
      "  warnings.warn(\n",
      "C:\\Users\\U\\AppData\\Roaming\\Python\\Python310\\site-packages\\sklearn\\linear_model\\_sag.py:350: ConvergenceWarning: The max_iter was reached which means the coef_ did not converge\n",
      "  warnings.warn(\n",
      "C:\\Users\\U\\AppData\\Roaming\\Python\\Python310\\site-packages\\sklearn\\linear_model\\_sag.py:350: ConvergenceWarning: The max_iter was reached which means the coef_ did not converge\n",
      "  warnings.warn(\n",
      "C:\\Users\\U\\AppData\\Roaming\\Python\\Python310\\site-packages\\sklearn\\linear_model\\_sag.py:350: ConvergenceWarning: The max_iter was reached which means the coef_ did not converge\n",
      "  warnings.warn(\n",
      "C:\\Users\\U\\AppData\\Roaming\\Python\\Python310\\site-packages\\sklearn\\linear_model\\_sag.py:350: ConvergenceWarning: The max_iter was reached which means the coef_ did not converge\n",
      "  warnings.warn(\n",
      "C:\\Users\\U\\AppData\\Roaming\\Python\\Python310\\site-packages\\sklearn\\linear_model\\_sag.py:350: ConvergenceWarning: The max_iter was reached which means the coef_ did not converge\n",
      "  warnings.warn(\n",
      "C:\\Users\\U\\AppData\\Roaming\\Python\\Python310\\site-packages\\sklearn\\linear_model\\_sag.py:350: ConvergenceWarning: The max_iter was reached which means the coef_ did not converge\n",
      "  warnings.warn(\n",
      "C:\\Users\\U\\AppData\\Roaming\\Python\\Python310\\site-packages\\sklearn\\linear_model\\_sag.py:350: ConvergenceWarning: The max_iter was reached which means the coef_ did not converge\n",
      "  warnings.warn(\n",
      "C:\\Users\\U\\AppData\\Roaming\\Python\\Python310\\site-packages\\sklearn\\linear_model\\_sag.py:350: ConvergenceWarning: The max_iter was reached which means the coef_ did not converge\n",
      "  warnings.warn(\n",
      "C:\\Users\\U\\AppData\\Roaming\\Python\\Python310\\site-packages\\sklearn\\linear_model\\_sag.py:350: ConvergenceWarning: The max_iter was reached which means the coef_ did not converge\n",
      "  warnings.warn(\n",
      "C:\\Users\\U\\AppData\\Roaming\\Python\\Python310\\site-packages\\sklearn\\linear_model\\_sag.py:350: ConvergenceWarning: The max_iter was reached which means the coef_ did not converge\n",
      "  warnings.warn(\n",
      "C:\\Users\\U\\AppData\\Roaming\\Python\\Python310\\site-packages\\sklearn\\linear_model\\_sag.py:350: ConvergenceWarning: The max_iter was reached which means the coef_ did not converge\n",
      "  warnings.warn(\n",
      "C:\\Users\\U\\AppData\\Roaming\\Python\\Python310\\site-packages\\sklearn\\linear_model\\_sag.py:350: ConvergenceWarning: The max_iter was reached which means the coef_ did not converge\n",
      "  warnings.warn(\n",
      "C:\\Users\\U\\AppData\\Roaming\\Python\\Python310\\site-packages\\sklearn\\linear_model\\_sag.py:350: ConvergenceWarning: The max_iter was reached which means the coef_ did not converge\n",
      "  warnings.warn(\n",
      "C:\\Users\\U\\AppData\\Roaming\\Python\\Python310\\site-packages\\sklearn\\linear_model\\_sag.py:350: ConvergenceWarning: The max_iter was reached which means the coef_ did not converge\n",
      "  warnings.warn(\n",
      "C:\\Users\\U\\AppData\\Roaming\\Python\\Python310\\site-packages\\sklearn\\linear_model\\_logistic.py:460: ConvergenceWarning: lbfgs failed to converge (status=1):\n",
      "STOP: TOTAL NO. of ITERATIONS REACHED LIMIT.\n",
      "\n",
      "Increase the number of iterations (max_iter) or scale the data as shown in:\n",
      "    https://scikit-learn.org/stable/modules/preprocessing.html\n",
      "Please also refer to the documentation for alternative solver options:\n",
      "    https://scikit-learn.org/stable/modules/linear_model.html#logistic-regression\n",
      "  n_iter_i = _check_optimize_result(\n",
      "C:\\Users\\U\\AppData\\Roaming\\Python\\Python310\\site-packages\\sklearn\\linear_model\\_logistic.py:460: ConvergenceWarning: lbfgs failed to converge (status=1):\n",
      "STOP: TOTAL NO. of ITERATIONS REACHED LIMIT.\n",
      "\n",
      "Increase the number of iterations (max_iter) or scale the data as shown in:\n",
      "    https://scikit-learn.org/stable/modules/preprocessing.html\n",
      "Please also refer to the documentation for alternative solver options:\n",
      "    https://scikit-learn.org/stable/modules/linear_model.html#logistic-regression\n",
      "  n_iter_i = _check_optimize_result(\n",
      "C:\\Users\\U\\AppData\\Roaming\\Python\\Python310\\site-packages\\sklearn\\linear_model\\_logistic.py:460: ConvergenceWarning: lbfgs failed to converge (status=1):\n",
      "STOP: TOTAL NO. of ITERATIONS REACHED LIMIT.\n",
      "\n",
      "Increase the number of iterations (max_iter) or scale the data as shown in:\n",
      "    https://scikit-learn.org/stable/modules/preprocessing.html\n",
      "Please also refer to the documentation for alternative solver options:\n",
      "    https://scikit-learn.org/stable/modules/linear_model.html#logistic-regression\n",
      "  n_iter_i = _check_optimize_result(\n",
      "C:\\Users\\U\\AppData\\Roaming\\Python\\Python310\\site-packages\\sklearn\\linear_model\\_logistic.py:460: ConvergenceWarning: lbfgs failed to converge (status=1):\n",
      "STOP: TOTAL NO. of ITERATIONS REACHED LIMIT.\n",
      "\n",
      "Increase the number of iterations (max_iter) or scale the data as shown in:\n",
      "    https://scikit-learn.org/stable/modules/preprocessing.html\n",
      "Please also refer to the documentation for alternative solver options:\n",
      "    https://scikit-learn.org/stable/modules/linear_model.html#logistic-regression\n",
      "  n_iter_i = _check_optimize_result(\n",
      "C:\\Users\\U\\AppData\\Roaming\\Python\\Python310\\site-packages\\sklearn\\linear_model\\_sag.py:350: ConvergenceWarning: The max_iter was reached which means the coef_ did not converge\n",
      "  warnings.warn(\n",
      "C:\\Users\\U\\AppData\\Roaming\\Python\\Python310\\site-packages\\sklearn\\linear_model\\_sag.py:350: ConvergenceWarning: The max_iter was reached which means the coef_ did not converge\n",
      "  warnings.warn(\n",
      "C:\\Users\\U\\AppData\\Roaming\\Python\\Python310\\site-packages\\sklearn\\linear_model\\_sag.py:350: ConvergenceWarning: The max_iter was reached which means the coef_ did not converge\n",
      "  warnings.warn(\n",
      "C:\\Users\\U\\AppData\\Roaming\\Python\\Python310\\site-packages\\sklearn\\linear_model\\_sag.py:350: ConvergenceWarning: The max_iter was reached which means the coef_ did not converge\n",
      "  warnings.warn(\n",
      "C:\\Users\\U\\AppData\\Roaming\\Python\\Python310\\site-packages\\sklearn\\linear_model\\_sag.py:350: ConvergenceWarning: The max_iter was reached which means the coef_ did not converge\n",
      "  warnings.warn(\n",
      "C:\\Users\\U\\AppData\\Roaming\\Python\\Python310\\site-packages\\sklearn\\linear_model\\_sag.py:350: ConvergenceWarning: The max_iter was reached which means the coef_ did not converge\n",
      "  warnings.warn(\n",
      "C:\\Users\\U\\AppData\\Roaming\\Python\\Python310\\site-packages\\sklearn\\linear_model\\_sag.py:350: ConvergenceWarning: The max_iter was reached which means the coef_ did not converge\n",
      "  warnings.warn(\n",
      "C:\\Users\\U\\AppData\\Roaming\\Python\\Python310\\site-packages\\sklearn\\linear_model\\_sag.py:350: ConvergenceWarning: The max_iter was reached which means the coef_ did not converge\n",
      "  warnings.warn(\n",
      "C:\\Users\\U\\AppData\\Roaming\\Python\\Python310\\site-packages\\sklearn\\linear_model\\_sag.py:350: ConvergenceWarning: The max_iter was reached which means the coef_ did not converge\n",
      "  warnings.warn(\n",
      "C:\\Users\\U\\AppData\\Roaming\\Python\\Python310\\site-packages\\sklearn\\linear_model\\_sag.py:350: ConvergenceWarning: The max_iter was reached which means the coef_ did not converge\n",
      "  warnings.warn(\n",
      "C:\\Users\\U\\AppData\\Roaming\\Python\\Python310\\site-packages\\sklearn\\linear_model\\_sag.py:350: ConvergenceWarning: The max_iter was reached which means the coef_ did not converge\n",
      "  warnings.warn(\n",
      "C:\\Users\\U\\AppData\\Roaming\\Python\\Python310\\site-packages\\sklearn\\linear_model\\_sag.py:350: ConvergenceWarning: The max_iter was reached which means the coef_ did not converge\n",
      "  warnings.warn(\n",
      "C:\\Users\\U\\AppData\\Roaming\\Python\\Python310\\site-packages\\sklearn\\linear_model\\_sag.py:350: ConvergenceWarning: The max_iter was reached which means the coef_ did not converge\n",
      "  warnings.warn(\n",
      "C:\\Users\\U\\AppData\\Roaming\\Python\\Python310\\site-packages\\sklearn\\linear_model\\_sag.py:350: ConvergenceWarning: The max_iter was reached which means the coef_ did not converge\n",
      "  warnings.warn(\n",
      "C:\\Users\\U\\AppData\\Roaming\\Python\\Python310\\site-packages\\sklearn\\linear_model\\_sag.py:350: ConvergenceWarning: The max_iter was reached which means the coef_ did not converge\n",
      "  warnings.warn(\n",
      "C:\\Users\\U\\AppData\\Roaming\\Python\\Python310\\site-packages\\sklearn\\model_selection\\_validation.py:425: FitFailedWarning: \n",
      "225 fits failed out of a total of 600.\n",
      "The score on these train-test partitions for these parameters will be set to nan.\n",
      "If these failures are not expected, you can try to debug them by setting error_score='raise'.\n",
      "\n",
      "Below are more details about the failures:\n",
      "--------------------------------------------------------------------------------\n",
      "75 fits failed with the following error:\n",
      "Traceback (most recent call last):\n",
      "  File \"C:\\Users\\U\\AppData\\Roaming\\Python\\Python310\\site-packages\\sklearn\\model_selection\\_validation.py\", line 732, in _fit_and_score\n",
      "    estimator.fit(X_train, y_train, **fit_params)\n",
      "  File \"C:\\Users\\U\\AppData\\Roaming\\Python\\Python310\\site-packages\\sklearn\\base.py\", line 1151, in wrapper\n",
      "    return fit_method(estimator, *args, **kwargs)\n",
      "  File \"C:\\Users\\U\\AppData\\Roaming\\Python\\Python310\\site-packages\\sklearn\\linear_model\\_logistic.py\", line 1168, in fit\n",
      "    solver = _check_solver(self.solver, self.penalty, self.dual)\n",
      "  File \"C:\\Users\\U\\AppData\\Roaming\\Python\\Python310\\site-packages\\sklearn\\linear_model\\_logistic.py\", line 56, in _check_solver\n",
      "    raise ValueError(\n",
      "ValueError: Solver lbfgs supports only 'l2' or 'none' penalties, got l1 penalty.\n",
      "\n",
      "--------------------------------------------------------------------------------\n",
      "75 fits failed with the following error:\n",
      "Traceback (most recent call last):\n",
      "  File \"C:\\Users\\U\\AppData\\Roaming\\Python\\Python310\\site-packages\\sklearn\\model_selection\\_validation.py\", line 732, in _fit_and_score\n",
      "    estimator.fit(X_train, y_train, **fit_params)\n",
      "  File \"C:\\Users\\U\\AppData\\Roaming\\Python\\Python310\\site-packages\\sklearn\\base.py\", line 1151, in wrapper\n",
      "    return fit_method(estimator, *args, **kwargs)\n",
      "  File \"C:\\Users\\U\\AppData\\Roaming\\Python\\Python310\\site-packages\\sklearn\\linear_model\\_logistic.py\", line 1168, in fit\n",
      "    solver = _check_solver(self.solver, self.penalty, self.dual)\n",
      "  File \"C:\\Users\\U\\AppData\\Roaming\\Python\\Python310\\site-packages\\sklearn\\linear_model\\_logistic.py\", line 56, in _check_solver\n",
      "    raise ValueError(\n",
      "ValueError: Solver sag supports only 'l2' or 'none' penalties, got l1 penalty.\n",
      "\n",
      "--------------------------------------------------------------------------------\n",
      "75 fits failed with the following error:\n",
      "Traceback (most recent call last):\n",
      "  File \"C:\\Users\\U\\AppData\\Roaming\\Python\\Python310\\site-packages\\sklearn\\model_selection\\_validation.py\", line 732, in _fit_and_score\n",
      "    estimator.fit(X_train, y_train, **fit_params)\n",
      "  File \"C:\\Users\\U\\AppData\\Roaming\\Python\\Python310\\site-packages\\sklearn\\base.py\", line 1151, in wrapper\n",
      "    return fit_method(estimator, *args, **kwargs)\n",
      "  File \"C:\\Users\\U\\AppData\\Roaming\\Python\\Python310\\site-packages\\sklearn\\linear_model\\_logistic.py\", line 1168, in fit\n",
      "    solver = _check_solver(self.solver, self.penalty, self.dual)\n",
      "  File \"C:\\Users\\U\\AppData\\Roaming\\Python\\Python310\\site-packages\\sklearn\\linear_model\\_logistic.py\", line 56, in _check_solver\n",
      "    raise ValueError(\n",
      "ValueError: Solver newton-cg supports only 'l2' or 'none' penalties, got l1 penalty.\n",
      "\n",
      "  warnings.warn(some_fits_failed_message, FitFailedWarning)\n",
      "C:\\Users\\U\\AppData\\Roaming\\Python\\Python310\\site-packages\\sklearn\\model_selection\\_search.py:976: UserWarning: One or more of the test scores are non-finite: [0.5               nan        nan        nan 0.7897515  0.75204063\n",
      " 0.75204063 0.75204063 0.5               nan        nan        nan\n",
      " 0.7897515  0.75204063 0.75204063 0.75204063 0.5               nan\n",
      "        nan        nan 0.7897515  0.75204063 0.75204063 0.75204063\n",
      " 0.74795937        nan        nan        nan 0.80730093 0.79790495\n",
      " 0.79790495 0.79790495 0.74795937        nan        nan        nan\n",
      " 0.80730093 0.79790495 0.79790495 0.79790495 0.74795937        nan\n",
      "        nan        nan 0.80730093 0.79790495 0.79790495 0.79790495\n",
      " 0.80190459        nan        nan        nan 0.80191366 0.79788681\n",
      " 0.79788681 0.79788681 0.80190459        nan        nan        nan\n",
      " 0.80191366 0.79788681 0.79788681 0.79788681 0.80190459        nan\n",
      "        nan        nan 0.80191366 0.79788681 0.79788681 0.79788681\n",
      " 0.80190459        nan        nan        nan 0.79922003 0.79922003\n",
      " 0.79922003 0.79922003 0.80190459        nan        nan        nan\n",
      " 0.79922003 0.79922003 0.79922003 0.79922003 0.80190459        nan\n",
      "        nan        nan 0.79922003 0.79922003 0.79922003 0.79922003\n",
      " 0.80056231        nan        nan        nan 0.79383276 0.79383276\n",
      " 0.79383276 0.79383276 0.80056231        nan        nan        nan\n",
      " 0.79383276 0.79383276 0.79383276 0.79383276 0.80056231        nan\n",
      "        nan        nan 0.79383276 0.79383276 0.79383276 0.79383276]\n",
      "  warnings.warn(\n"
     ]
    },
    {
     "name": "stdout",
     "output_type": "stream",
     "text": [
      "Mejores parámetros: {'C': 0.01, 'max_iter': 100, 'penalty': 'l2', 'solver': 'liblinear'}\n",
      "Mejor puntuación en entrenamiento: 0.8073009250861599\n",
      "Puntuación en el conjunto de prueba: 0.8010752688172043\n",
      "Accuracy: 0.8010752688172043\n",
      "\n",
      "Classification Report: \n",
      "               precision    recall  f1-score   support\n",
      "\n",
      "           0       0.84      0.74      0.79        93\n",
      "           1       0.77      0.86      0.81        93\n",
      "\n",
      "    accuracy                           0.80       186\n",
      "   macro avg       0.81      0.80      0.80       186\n",
      "weighted avg       0.81      0.80      0.80       186\n",
      "\n",
      "\n",
      "Confusion Matrix: \n",
      " [[69 24]\n",
      " [13 80]]\n",
      "----------------------------------------------------------------------------------------------------\n",
      "\n",
      "Porcentaje de Response 1 después del sobremuestreo: 49.29435483870967\n",
      "Porcentaje de Response 0 después del sobremuestreo: 50.70564516129033\n"
     ]
    },
    {
     "data": {
      "image/png": "[encoded data removed]",
      "text/plain": [
       "<Figure size 600x400 with 1 Axes>"
      ]
     },
     "metadata": {},
     "output_type": "display_data"
    },
    {
     "name": "stdout",
     "output_type": "stream",
     "text": [
      "Tamaño del conjunto de entrenamiento: 992\n",
      "Tamaño del conjunto de prueba: 248\n"
     ]
    },
    {
     "name": "stderr",
     "output_type": "stream",
     "text": [
      "C:\\Users\\U\\AppData\\Roaming\\Python\\Python310\\site-packages\\sklearn\\linear_model\\_sag.py:350: ConvergenceWarning: The max_iter was reached which means the coef_ did not converge\n",
      "  warnings.warn(\n",
      "C:\\Users\\U\\AppData\\Roaming\\Python\\Python310\\site-packages\\sklearn\\linear_model\\_sag.py:350: ConvergenceWarning: The max_iter was reached which means the coef_ did not converge\n",
      "  warnings.warn(\n",
      "C:\\Users\\U\\AppData\\Roaming\\Python\\Python310\\site-packages\\sklearn\\linear_model\\_sag.py:350: ConvergenceWarning: The max_iter was reached which means the coef_ did not converge\n",
      "  warnings.warn(\n",
      "C:\\Users\\U\\AppData\\Roaming\\Python\\Python310\\site-packages\\sklearn\\linear_model\\_sag.py:350: ConvergenceWarning: The max_iter was reached which means the coef_ did not converge\n",
      "  warnings.warn(\n",
      "C:\\Users\\U\\AppData\\Roaming\\Python\\Python310\\site-packages\\sklearn\\linear_model\\_sag.py:350: ConvergenceWarning: The max_iter was reached which means the coef_ did not converge\n",
      "  warnings.warn(\n",
      "C:\\Users\\U\\AppData\\Roaming\\Python\\Python310\\site-packages\\sklearn\\linear_model\\_sag.py:350: ConvergenceWarning: The max_iter was reached which means the coef_ did not converge\n",
      "  warnings.warn(\n",
      "C:\\Users\\U\\AppData\\Roaming\\Python\\Python310\\site-packages\\sklearn\\linear_model\\_sag.py:350: ConvergenceWarning: The max_iter was reached which means the coef_ did not converge\n",
      "  warnings.warn(\n",
      "C:\\Users\\U\\AppData\\Roaming\\Python\\Python310\\site-packages\\sklearn\\linear_model\\_sag.py:350: ConvergenceWarning: The max_iter was reached which means the coef_ did not converge\n",
      "  warnings.warn(\n",
      "C:\\Users\\U\\AppData\\Roaming\\Python\\Python310\\site-packages\\sklearn\\linear_model\\_sag.py:350: ConvergenceWarning: The max_iter was reached which means the coef_ did not converge\n",
      "  warnings.warn(\n",
      "C:\\Users\\U\\AppData\\Roaming\\Python\\Python310\\site-packages\\sklearn\\linear_model\\_sag.py:350: ConvergenceWarning: The max_iter was reached which means the coef_ did not converge\n",
      "  warnings.warn(\n",
      "C:\\Users\\U\\AppData\\Roaming\\Python\\Python310\\site-packages\\sklearn\\linear_model\\_sag.py:350: ConvergenceWarning: The max_iter was reached which means the coef_ did not converge\n",
      "  warnings.warn(\n",
      "C:\\Users\\U\\AppData\\Roaming\\Python\\Python310\\site-packages\\sklearn\\linear_model\\_sag.py:350: ConvergenceWarning: The max_iter was reached which means the coef_ did not converge\n",
      "  warnings.warn(\n",
      "C:\\Users\\U\\AppData\\Roaming\\Python\\Python310\\site-packages\\sklearn\\linear_model\\_sag.py:350: ConvergenceWarning: The max_iter was reached which means the coef_ did not converge\n",
      "  warnings.warn(\n",
      "C:\\Users\\U\\AppData\\Roaming\\Python\\Python310\\site-packages\\sklearn\\linear_model\\_sag.py:350: ConvergenceWarning: The max_iter was reached which means the coef_ did not converge\n",
      "  warnings.warn(\n",
      "C:\\Users\\U\\AppData\\Roaming\\Python\\Python310\\site-packages\\sklearn\\linear_model\\_sag.py:350: ConvergenceWarning: The max_iter was reached which means the coef_ did not converge\n",
      "  warnings.warn(\n",
      "C:\\Users\\U\\AppData\\Roaming\\Python\\Python310\\site-packages\\sklearn\\linear_model\\_logistic.py:460: ConvergenceWarning: lbfgs failed to converge (status=1):\n",
      "STOP: TOTAL NO. of ITERATIONS REACHED LIMIT.\n",
      "\n",
      "Increase the number of iterations (max_iter) or scale the data as shown in:\n",
      "    https://scikit-learn.org/stable/modules/preprocessing.html\n",
      "Please also refer to the documentation for alternative solver options:\n",
      "    https://scikit-learn.org/stable/modules/linear_model.html#logistic-regression\n",
      "  n_iter_i = _check_optimize_result(\n",
      "C:\\Users\\U\\AppData\\Roaming\\Python\\Python310\\site-packages\\sklearn\\linear_model\\_logistic.py:460: ConvergenceWarning: lbfgs failed to converge (status=1):\n",
      "STOP: TOTAL NO. of ITERATIONS REACHED LIMIT.\n",
      "\n",
      "Increase the number of iterations (max_iter) or scale the data as shown in:\n",
      "    https://scikit-learn.org/stable/modules/preprocessing.html\n",
      "Please also refer to the documentation for alternative solver options:\n",
      "    https://scikit-learn.org/stable/modules/linear_model.html#logistic-regression\n",
      "  n_iter_i = _check_optimize_result(\n",
      "C:\\Users\\U\\AppData\\Roaming\\Python\\Python310\\site-packages\\sklearn\\linear_model\\_logistic.py:460: ConvergenceWarning: lbfgs failed to converge (status=1):\n",
      "STOP: TOTAL NO. of ITERATIONS REACHED LIMIT.\n",
      "\n",
      "Increase the number of iterations (max_iter) or scale the data as shown in:\n",
      "    https://scikit-learn.org/stable/modules/preprocessing.html\n",
      "Please also refer to the documentation for alternative solver options:\n",
      "    https://scikit-learn.org/stable/modules/linear_model.html#logistic-regression\n",
      "  n_iter_i = _check_optimize_result(\n",
      "C:\\Users\\U\\AppData\\Roaming\\Python\\Python310\\site-packages\\sklearn\\linear_model\\_logistic.py:460: ConvergenceWarning: lbfgs failed to converge (status=1):\n",
      "STOP: TOTAL NO. of ITERATIONS REACHED LIMIT.\n",
      "\n",
      "Increase the number of iterations (max_iter) or scale the data as shown in:\n",
      "    https://scikit-learn.org/stable/modules/preprocessing.html\n",
      "Please also refer to the documentation for alternative solver options:\n",
      "    https://scikit-learn.org/stable/modules/linear_model.html#logistic-regression\n",
      "  n_iter_i = _check_optimize_result(\n",
      "C:\\Users\\U\\AppData\\Roaming\\Python\\Python310\\site-packages\\sklearn\\linear_model\\_sag.py:350: ConvergenceWarning: The max_iter was reached which means the coef_ did not converge\n",
      "  warnings.warn(\n",
      "C:\\Users\\U\\AppData\\Roaming\\Python\\Python310\\site-packages\\sklearn\\linear_model\\_sag.py:350: ConvergenceWarning: The max_iter was reached which means the coef_ did not converge\n",
      "  warnings.warn(\n",
      "C:\\Users\\U\\AppData\\Roaming\\Python\\Python310\\site-packages\\sklearn\\linear_model\\_sag.py:350: ConvergenceWarning: The max_iter was reached which means the coef_ did not converge\n",
      "  warnings.warn(\n",
      "C:\\Users\\U\\AppData\\Roaming\\Python\\Python310\\site-packages\\sklearn\\linear_model\\_sag.py:350: ConvergenceWarning: The max_iter was reached which means the coef_ did not converge\n",
      "  warnings.warn(\n",
      "C:\\Users\\U\\AppData\\Roaming\\Python\\Python310\\site-packages\\sklearn\\linear_model\\_sag.py:350: ConvergenceWarning: The max_iter was reached which means the coef_ did not converge\n",
      "  warnings.warn(\n",
      "C:\\Users\\U\\AppData\\Roaming\\Python\\Python310\\site-packages\\sklearn\\linear_model\\_logistic.py:460: ConvergenceWarning: lbfgs failed to converge (status=1):\n",
      "STOP: TOTAL NO. of ITERATIONS REACHED LIMIT.\n",
      "\n",
      "Increase the number of iterations (max_iter) or scale the data as shown in:\n",
      "    https://scikit-learn.org/stable/modules/preprocessing.html\n",
      "Please also refer to the documentation for alternative solver options:\n",
      "    https://scikit-learn.org/stable/modules/linear_model.html#logistic-regression\n",
      "  n_iter_i = _check_optimize_result(\n",
      "C:\\Users\\U\\AppData\\Roaming\\Python\\Python310\\site-packages\\sklearn\\linear_model\\_sag.py:350: ConvergenceWarning: The max_iter was reached which means the coef_ did not converge\n",
      "  warnings.warn(\n",
      "C:\\Users\\U\\AppData\\Roaming\\Python\\Python310\\site-packages\\sklearn\\linear_model\\_sag.py:350: ConvergenceWarning: The max_iter was reached which means the coef_ did not converge\n",
      "  warnings.warn(\n",
      "C:\\Users\\U\\AppData\\Roaming\\Python\\Python310\\site-packages\\sklearn\\linear_model\\_sag.py:350: ConvergenceWarning: The max_iter was reached which means the coef_ did not converge\n",
      "  warnings.warn(\n",
      "C:\\Users\\U\\AppData\\Roaming\\Python\\Python310\\site-packages\\sklearn\\linear_model\\_sag.py:350: ConvergenceWarning: The max_iter was reached which means the coef_ did not converge\n",
      "  warnings.warn(\n",
      "C:\\Users\\U\\AppData\\Roaming\\Python\\Python310\\site-packages\\sklearn\\linear_model\\_sag.py:350: ConvergenceWarning: The max_iter was reached which means the coef_ did not converge\n",
      "  warnings.warn(\n",
      "C:\\Users\\U\\AppData\\Roaming\\Python\\Python310\\site-packages\\sklearn\\linear_model\\_sag.py:350: ConvergenceWarning: The max_iter was reached which means the coef_ did not converge\n",
      "  warnings.warn(\n",
      "C:\\Users\\U\\AppData\\Roaming\\Python\\Python310\\site-packages\\sklearn\\linear_model\\_sag.py:350: ConvergenceWarning: The max_iter was reached which means the coef_ did not converge\n",
      "  warnings.warn(\n",
      "C:\\Users\\U\\AppData\\Roaming\\Python\\Python310\\site-packages\\sklearn\\linear_model\\_sag.py:350: ConvergenceWarning: The max_iter was reached which means the coef_ did not converge\n",
      "  warnings.warn(\n",
      "C:\\Users\\U\\AppData\\Roaming\\Python\\Python310\\site-packages\\sklearn\\linear_model\\_sag.py:350: ConvergenceWarning: The max_iter was reached which means the coef_ did not converge\n",
      "  warnings.warn(\n",
      "C:\\Users\\U\\AppData\\Roaming\\Python\\Python310\\site-packages\\sklearn\\linear_model\\_sag.py:350: ConvergenceWarning: The max_iter was reached which means the coef_ did not converge\n",
      "  warnings.warn(\n",
      "C:\\Users\\U\\AppData\\Roaming\\Python\\Python310\\site-packages\\sklearn\\model_selection\\_validation.py:425: FitFailedWarning: \n",
      "225 fits failed out of a total of 600.\n",
      "The score on these train-test partitions for these parameters will be set to nan.\n",
      "If these failures are not expected, you can try to debug them by setting error_score='raise'.\n",
      "\n",
      "Below are more details about the failures:\n",
      "--------------------------------------------------------------------------------\n",
      "75 fits failed with the following error:\n",
      "Traceback (most recent call last):\n",
      "  File \"C:\\Users\\U\\AppData\\Roaming\\Python\\Python310\\site-packages\\sklearn\\model_selection\\_validation.py\", line 732, in _fit_and_score\n",
      "    estimator.fit(X_train, y_train, **fit_params)\n",
      "  File \"C:\\Users\\U\\AppData\\Roaming\\Python\\Python310\\site-packages\\sklearn\\base.py\", line 1151, in wrapper\n",
      "    return fit_method(estimator, *args, **kwargs)\n",
      "  File \"C:\\Users\\U\\AppData\\Roaming\\Python\\Python310\\site-packages\\sklearn\\linear_model\\_logistic.py\", line 1168, in fit\n",
      "    solver = _check_solver(self.solver, self.penalty, self.dual)\n",
      "  File \"C:\\Users\\U\\AppData\\Roaming\\Python\\Python310\\site-packages\\sklearn\\linear_model\\_logistic.py\", line 56, in _check_solver\n",
      "    raise ValueError(\n",
      "ValueError: Solver lbfgs supports only 'l2' or 'none' penalties, got l1 penalty.\n",
      "\n",
      "--------------------------------------------------------------------------------\n",
      "75 fits failed with the following error:\n",
      "Traceback (most recent call last):\n",
      "  File \"C:\\Users\\U\\AppData\\Roaming\\Python\\Python310\\site-packages\\sklearn\\model_selection\\_validation.py\", line 732, in _fit_and_score\n",
      "    estimator.fit(X_train, y_train, **fit_params)\n",
      "  File \"C:\\Users\\U\\AppData\\Roaming\\Python\\Python310\\site-packages\\sklearn\\base.py\", line 1151, in wrapper\n",
      "    return fit_method(estimator, *args, **kwargs)\n",
      "  File \"C:\\Users\\U\\AppData\\Roaming\\Python\\Python310\\site-packages\\sklearn\\linear_model\\_logistic.py\", line 1168, in fit\n",
      "    solver = _check_solver(self.solver, self.penalty, self.dual)\n",
      "  File \"C:\\Users\\U\\AppData\\Roaming\\Python\\Python310\\site-packages\\sklearn\\linear_model\\_logistic.py\", line 56, in _check_solver\n",
      "    raise ValueError(\n",
      "ValueError: Solver sag supports only 'l2' or 'none' penalties, got l1 penalty.\n",
      "\n",
      "--------------------------------------------------------------------------------\n",
      "75 fits failed with the following error:\n",
      "Traceback (most recent call last):\n",
      "  File \"C:\\Users\\U\\AppData\\Roaming\\Python\\Python310\\site-packages\\sklearn\\model_selection\\_validation.py\", line 732, in _fit_and_score\n",
      "    estimator.fit(X_train, y_train, **fit_params)\n",
      "  File \"C:\\Users\\U\\AppData\\Roaming\\Python\\Python310\\site-packages\\sklearn\\base.py\", line 1151, in wrapper\n",
      "    return fit_method(estimator, *args, **kwargs)\n",
      "  File \"C:\\Users\\U\\AppData\\Roaming\\Python\\Python310\\site-packages\\sklearn\\linear_model\\_logistic.py\", line 1168, in fit\n",
      "    solver = _check_solver(self.solver, self.penalty, self.dual)\n",
      "  File \"C:\\Users\\U\\AppData\\Roaming\\Python\\Python310\\site-packages\\sklearn\\linear_model\\_logistic.py\", line 56, in _check_solver\n",
      "    raise ValueError(\n",
      "ValueError: Solver newton-cg supports only 'l2' or 'none' penalties, got l1 penalty.\n",
      "\n",
      "  warnings.warn(some_fits_failed_message, FitFailedWarning)\n",
      "C:\\Users\\U\\AppData\\Roaming\\Python\\Python310\\site-packages\\sklearn\\model_selection\\_search.py:976: UserWarning: One or more of the test scores are non-finite: [0.49294452        nan        nan        nan 0.73994213 0.75401249\n",
      " 0.75401249 0.75401249 0.49294452        nan        nan        nan\n",
      " 0.73994213 0.75401249 0.75401249 0.75401249 0.49294452        nan\n",
      "        nan        nan 0.73994213 0.75401249 0.75401249 0.75401249\n",
      " 0.70464951        nan        nan        nan 0.80442617 0.78121923\n",
      " 0.78121923 0.78121923 0.70464951        nan        nan        nan\n",
      " 0.80442617 0.78121923 0.78121923 0.78121923 0.70464951        nan\n",
      "        nan        nan 0.80442617 0.78121923 0.78121923 0.78121923\n",
      " 0.82460789        nan        nan        nan 0.82562814 0.82965332\n",
      " 0.82965332 0.82965332 0.82460789        nan        nan        nan\n",
      " 0.82562814 0.82965332 0.82965332 0.82965332 0.82359779        nan\n",
      "        nan        nan 0.82562814 0.82965332 0.82965332 0.82965332\n",
      " 0.82563829        nan        nan        nan 0.8286686  0.8286686\n",
      " 0.8286686  0.8286686  0.82563829        nan        nan        nan\n",
      " 0.8286686  0.8286686  0.8286686  0.8286686  0.82563829        nan\n",
      "        nan        nan 0.8286686  0.8286686  0.8286686  0.8286686\n",
      " 0.82563829        nan        nan        nan 0.82462819 0.82462819\n",
      " 0.82563829 0.82563829 0.82462819        nan        nan        nan\n",
      " 0.82462819 0.82462819 0.82563829 0.82563829 0.82563829        nan\n",
      "        nan        nan 0.82462819 0.82462819 0.82563829 0.82563829]\n",
      "  warnings.warn(\n"
     ]
    },
    {
     "name": "stdout",
     "output_type": "stream",
     "text": [
      "Mejores parámetros: {'C': 0.1, 'max_iter': 100, 'penalty': 'l2', 'solver': 'lbfgs'}\n",
      "Mejor puntuación en entrenamiento: 0.829653317090503\n",
      "Puntuación en el conjunto de prueba: 0.8225806451612904\n",
      "Accuracy: 0.8225806451612904\n",
      "\n",
      "Classification Report: \n",
      "               precision    recall  f1-score   support\n",
      "\n",
      "           0       0.87      0.79      0.82       131\n",
      "           1       0.78      0.86      0.82       117\n",
      "\n",
      "    accuracy                           0.82       248\n",
      "   macro avg       0.82      0.82      0.82       248\n",
      "weighted avg       0.83      0.82      0.82       248\n",
      "\n",
      "\n",
      "Confusion Matrix: \n",
      " [[103  28]\n",
      " [ 16 101]]\n",
      "----------------------------------------------------------------------------------------------------\n",
      "\n",
      "Porcentaje de Response 1 después del sobremuestreo: 49.87190435525192\n",
      "Porcentaje de Response 0 después del sobremuestreo: 50.128095644748086\n"
     ]
    },
    {
     "data": {
      "image/png": "[encoded data removed]",
      "text/plain": [
       "<Figure size 600x400 with 1 Axes>"
      ]
     },
     "metadata": {},
     "output_type": "display_data"
    },
    {
     "name": "stdout",
     "output_type": "stream",
     "text": [
      "Tamaño del conjunto de entrenamiento: 1171\n",
      "Tamaño del conjunto de prueba: 293\n"
     ]
    },
    {
     "name": "stderr",
     "output_type": "stream",
     "text": [
      "C:\\Users\\U\\AppData\\Roaming\\Python\\Python310\\site-packages\\sklearn\\linear_model\\_sag.py:350: ConvergenceWarning: The max_iter was reached which means the coef_ did not converge\n",
      "  warnings.warn(\n",
      "C:\\Users\\U\\AppData\\Roaming\\Python\\Python310\\site-packages\\sklearn\\linear_model\\_sag.py:350: ConvergenceWarning: The max_iter was reached which means the coef_ did not converge\n",
      "  warnings.warn(\n",
      "C:\\Users\\U\\AppData\\Roaming\\Python\\Python310\\site-packages\\sklearn\\linear_model\\_sag.py:350: ConvergenceWarning: The max_iter was reached which means the coef_ did not converge\n",
      "  warnings.warn(\n",
      "C:\\Users\\U\\AppData\\Roaming\\Python\\Python310\\site-packages\\sklearn\\linear_model\\_sag.py:350: ConvergenceWarning: The max_iter was reached which means the coef_ did not converge\n",
      "  warnings.warn(\n",
      "C:\\Users\\U\\AppData\\Roaming\\Python\\Python310\\site-packages\\sklearn\\linear_model\\_sag.py:350: ConvergenceWarning: The max_iter was reached which means the coef_ did not converge\n",
      "  warnings.warn(\n",
      "C:\\Users\\U\\AppData\\Roaming\\Python\\Python310\\site-packages\\sklearn\\linear_model\\_logistic.py:460: ConvergenceWarning: lbfgs failed to converge (status=1):\n",
      "STOP: TOTAL NO. of ITERATIONS REACHED LIMIT.\n",
      "\n",
      "Increase the number of iterations (max_iter) or scale the data as shown in:\n",
      "    https://scikit-learn.org/stable/modules/preprocessing.html\n",
      "Please also refer to the documentation for alternative solver options:\n",
      "    https://scikit-learn.org/stable/modules/linear_model.html#logistic-regression\n",
      "  n_iter_i = _check_optimize_result(\n",
      "C:\\Users\\U\\AppData\\Roaming\\Python\\Python310\\site-packages\\sklearn\\linear_model\\_logistic.py:460: ConvergenceWarning: lbfgs failed to converge (status=1):\n",
      "STOP: TOTAL NO. of ITERATIONS REACHED LIMIT.\n",
      "\n",
      "Increase the number of iterations (max_iter) or scale the data as shown in:\n",
      "    https://scikit-learn.org/stable/modules/preprocessing.html\n",
      "Please also refer to the documentation for alternative solver options:\n",
      "    https://scikit-learn.org/stable/modules/linear_model.html#logistic-regression\n",
      "  n_iter_i = _check_optimize_result(\n",
      "C:\\Users\\U\\AppData\\Roaming\\Python\\Python310\\site-packages\\sklearn\\linear_model\\_logistic.py:460: ConvergenceWarning: lbfgs failed to converge (status=1):\n",
      "STOP: TOTAL NO. of ITERATIONS REACHED LIMIT.\n",
      "\n",
      "Increase the number of iterations (max_iter) or scale the data as shown in:\n",
      "    https://scikit-learn.org/stable/modules/preprocessing.html\n",
      "Please also refer to the documentation for alternative solver options:\n",
      "    https://scikit-learn.org/stable/modules/linear_model.html#logistic-regression\n",
      "  n_iter_i = _check_optimize_result(\n",
      "C:\\Users\\U\\AppData\\Roaming\\Python\\Python310\\site-packages\\sklearn\\linear_model\\_logistic.py:460: ConvergenceWarning: lbfgs failed to converge (status=1):\n",
      "STOP: TOTAL NO. of ITERATIONS REACHED LIMIT.\n",
      "\n",
      "Increase the number of iterations (max_iter) or scale the data as shown in:\n",
      "    https://scikit-learn.org/stable/modules/preprocessing.html\n",
      "Please also refer to the documentation for alternative solver options:\n",
      "    https://scikit-learn.org/stable/modules/linear_model.html#logistic-regression\n",
      "  n_iter_i = _check_optimize_result(\n",
      "C:\\Users\\U\\AppData\\Roaming\\Python\\Python310\\site-packages\\sklearn\\linear_model\\_logistic.py:460: ConvergenceWarning: lbfgs failed to converge (status=1):\n",
      "STOP: TOTAL NO. of ITERATIONS REACHED LIMIT.\n",
      "\n",
      "Increase the number of iterations (max_iter) or scale the data as shown in:\n",
      "    https://scikit-learn.org/stable/modules/preprocessing.html\n",
      "Please also refer to the documentation for alternative solver options:\n",
      "    https://scikit-learn.org/stable/modules/linear_model.html#logistic-regression\n",
      "  n_iter_i = _check_optimize_result(\n",
      "C:\\Users\\U\\AppData\\Roaming\\Python\\Python310\\site-packages\\sklearn\\linear_model\\_sag.py:350: ConvergenceWarning: The max_iter was reached which means the coef_ did not converge\n",
      "  warnings.warn(\n",
      "C:\\Users\\U\\AppData\\Roaming\\Python\\Python310\\site-packages\\sklearn\\linear_model\\_sag.py:350: ConvergenceWarning: The max_iter was reached which means the coef_ did not converge\n",
      "  warnings.warn(\n",
      "C:\\Users\\U\\AppData\\Roaming\\Python\\Python310\\site-packages\\sklearn\\linear_model\\_sag.py:350: ConvergenceWarning: The max_iter was reached which means the coef_ did not converge\n",
      "  warnings.warn(\n",
      "C:\\Users\\U\\AppData\\Roaming\\Python\\Python310\\site-packages\\sklearn\\linear_model\\_sag.py:350: ConvergenceWarning: The max_iter was reached which means the coef_ did not converge\n",
      "  warnings.warn(\n",
      "C:\\Users\\U\\AppData\\Roaming\\Python\\Python310\\site-packages\\sklearn\\linear_model\\_sag.py:350: ConvergenceWarning: The max_iter was reached which means the coef_ did not converge\n",
      "  warnings.warn(\n",
      "C:\\Users\\U\\AppData\\Roaming\\Python\\Python310\\site-packages\\sklearn\\linear_model\\_logistic.py:460: ConvergenceWarning: lbfgs failed to converge (status=1):\n",
      "STOP: TOTAL NO. of ITERATIONS REACHED LIMIT.\n",
      "\n",
      "Increase the number of iterations (max_iter) or scale the data as shown in:\n",
      "    https://scikit-learn.org/stable/modules/preprocessing.html\n",
      "Please also refer to the documentation for alternative solver options:\n",
      "    https://scikit-learn.org/stable/modules/linear_model.html#logistic-regression\n",
      "  n_iter_i = _check_optimize_result(\n",
      "C:\\Users\\U\\AppData\\Roaming\\Python\\Python310\\site-packages\\sklearn\\linear_model\\_logistic.py:460: ConvergenceWarning: lbfgs failed to converge (status=1):\n",
      "STOP: TOTAL NO. of ITERATIONS REACHED LIMIT.\n",
      "\n",
      "Increase the number of iterations (max_iter) or scale the data as shown in:\n",
      "    https://scikit-learn.org/stable/modules/preprocessing.html\n",
      "Please also refer to the documentation for alternative solver options:\n",
      "    https://scikit-learn.org/stable/modules/linear_model.html#logistic-regression\n",
      "  n_iter_i = _check_optimize_result(\n",
      "C:\\Users\\U\\AppData\\Roaming\\Python\\Python310\\site-packages\\sklearn\\linear_model\\_logistic.py:460: ConvergenceWarning: lbfgs failed to converge (status=1):\n",
      "STOP: TOTAL NO. of ITERATIONS REACHED LIMIT.\n",
      "\n",
      "Increase the number of iterations (max_iter) or scale the data as shown in:\n",
      "    https://scikit-learn.org/stable/modules/preprocessing.html\n",
      "Please also refer to the documentation for alternative solver options:\n",
      "    https://scikit-learn.org/stable/modules/linear_model.html#logistic-regression\n",
      "  n_iter_i = _check_optimize_result(\n",
      "C:\\Users\\U\\AppData\\Roaming\\Python\\Python310\\site-packages\\sklearn\\linear_model\\_logistic.py:460: ConvergenceWarning: lbfgs failed to converge (status=1):\n",
      "STOP: TOTAL NO. of ITERATIONS REACHED LIMIT.\n",
      "\n",
      "Increase the number of iterations (max_iter) or scale the data as shown in:\n",
      "    https://scikit-learn.org/stable/modules/preprocessing.html\n",
      "Please also refer to the documentation for alternative solver options:\n",
      "    https://scikit-learn.org/stable/modules/linear_model.html#logistic-regression\n",
      "  n_iter_i = _check_optimize_result(\n",
      "C:\\Users\\U\\AppData\\Roaming\\Python\\Python310\\site-packages\\sklearn\\linear_model\\_sag.py:350: ConvergenceWarning: The max_iter was reached which means the coef_ did not converge\n",
      "  warnings.warn(\n",
      "C:\\Users\\U\\AppData\\Roaming\\Python\\Python310\\site-packages\\sklearn\\linear_model\\_sag.py:350: ConvergenceWarning: The max_iter was reached which means the coef_ did not converge\n",
      "  warnings.warn(\n",
      "C:\\Users\\U\\AppData\\Roaming\\Python\\Python310\\site-packages\\sklearn\\linear_model\\_sag.py:350: ConvergenceWarning: The max_iter was reached which means the coef_ did not converge\n",
      "  warnings.warn(\n",
      "C:\\Users\\U\\AppData\\Roaming\\Python\\Python310\\site-packages\\sklearn\\linear_model\\_sag.py:350: ConvergenceWarning: The max_iter was reached which means the coef_ did not converge\n",
      "  warnings.warn(\n",
      "C:\\Users\\U\\AppData\\Roaming\\Python\\Python310\\site-packages\\sklearn\\linear_model\\_sag.py:350: ConvergenceWarning: The max_iter was reached which means the coef_ did not converge\n",
      "  warnings.warn(\n",
      "C:\\Users\\U\\AppData\\Roaming\\Python\\Python310\\site-packages\\sklearn\\linear_model\\_sag.py:350: ConvergenceWarning: The max_iter was reached which means the coef_ did not converge\n",
      "  warnings.warn(\n",
      "C:\\Users\\U\\AppData\\Roaming\\Python\\Python310\\site-packages\\sklearn\\linear_model\\_sag.py:350: ConvergenceWarning: The max_iter was reached which means the coef_ did not converge\n",
      "  warnings.warn(\n",
      "C:\\Users\\U\\AppData\\Roaming\\Python\\Python310\\site-packages\\sklearn\\linear_model\\_sag.py:350: ConvergenceWarning: The max_iter was reached which means the coef_ did not converge\n",
      "  warnings.warn(\n",
      "C:\\Users\\U\\AppData\\Roaming\\Python\\Python310\\site-packages\\sklearn\\linear_model\\_sag.py:350: ConvergenceWarning: The max_iter was reached which means the coef_ did not converge\n",
      "  warnings.warn(\n",
      "C:\\Users\\U\\AppData\\Roaming\\Python\\Python310\\site-packages\\sklearn\\linear_model\\_sag.py:350: ConvergenceWarning: The max_iter was reached which means the coef_ did not converge\n",
      "  warnings.warn(\n",
      "C:\\Users\\U\\AppData\\Roaming\\Python\\Python310\\site-packages\\sklearn\\model_selection\\_validation.py:425: FitFailedWarning: \n",
      "225 fits failed out of a total of 600.\n",
      "The score on these train-test partitions for these parameters will be set to nan.\n",
      "If these failures are not expected, you can try to debug them by setting error_score='raise'.\n",
      "\n",
      "Below are more details about the failures:\n",
      "--------------------------------------------------------------------------------\n",
      "75 fits failed with the following error:\n",
      "Traceback (most recent call last):\n",
      "  File \"C:\\Users\\U\\AppData\\Roaming\\Python\\Python310\\site-packages\\sklearn\\model_selection\\_validation.py\", line 732, in _fit_and_score\n",
      "    estimator.fit(X_train, y_train, **fit_params)\n",
      "  File \"C:\\Users\\U\\AppData\\Roaming\\Python\\Python310\\site-packages\\sklearn\\base.py\", line 1151, in wrapper\n",
      "    return fit_method(estimator, *args, **kwargs)\n",
      "  File \"C:\\Users\\U\\AppData\\Roaming\\Python\\Python310\\site-packages\\sklearn\\linear_model\\_logistic.py\", line 1168, in fit\n",
      "    solver = _check_solver(self.solver, self.penalty, self.dual)\n",
      "  File \"C:\\Users\\U\\AppData\\Roaming\\Python\\Python310\\site-packages\\sklearn\\linear_model\\_logistic.py\", line 56, in _check_solver\n",
      "    raise ValueError(\n",
      "ValueError: Solver lbfgs supports only 'l2' or 'none' penalties, got l1 penalty.\n",
      "\n",
      "--------------------------------------------------------------------------------\n",
      "75 fits failed with the following error:\n",
      "Traceback (most recent call last):\n",
      "  File \"C:\\Users\\U\\AppData\\Roaming\\Python\\Python310\\site-packages\\sklearn\\model_selection\\_validation.py\", line 732, in _fit_and_score\n",
      "    estimator.fit(X_train, y_train, **fit_params)\n",
      "  File \"C:\\Users\\U\\AppData\\Roaming\\Python\\Python310\\site-packages\\sklearn\\base.py\", line 1151, in wrapper\n",
      "    return fit_method(estimator, *args, **kwargs)\n",
      "  File \"C:\\Users\\U\\AppData\\Roaming\\Python\\Python310\\site-packages\\sklearn\\linear_model\\_logistic.py\", line 1168, in fit\n",
      "    solver = _check_solver(self.solver, self.penalty, self.dual)\n",
      "  File \"C:\\Users\\U\\AppData\\Roaming\\Python\\Python310\\site-packages\\sklearn\\linear_model\\_logistic.py\", line 56, in _check_solver\n",
      "    raise ValueError(\n",
      "ValueError: Solver sag supports only 'l2' or 'none' penalties, got l1 penalty.\n",
      "\n",
      "--------------------------------------------------------------------------------\n",
      "75 fits failed with the following error:\n",
      "Traceback (most recent call last):\n",
      "  File \"C:\\Users\\U\\AppData\\Roaming\\Python\\Python310\\site-packages\\sklearn\\model_selection\\_validation.py\", line 732, in _fit_and_score\n",
      "    estimator.fit(X_train, y_train, **fit_params)\n",
      "  File \"C:\\Users\\U\\AppData\\Roaming\\Python\\Python310\\site-packages\\sklearn\\base.py\", line 1151, in wrapper\n",
      "    return fit_method(estimator, *args, **kwargs)\n",
      "  File \"C:\\Users\\U\\AppData\\Roaming\\Python\\Python310\\site-packages\\sklearn\\linear_model\\_logistic.py\", line 1168, in fit\n",
      "    solver = _check_solver(self.solver, self.penalty, self.dual)\n",
      "  File \"C:\\Users\\U\\AppData\\Roaming\\Python\\Python310\\site-packages\\sklearn\\linear_model\\_logistic.py\", line 56, in _check_solver\n",
      "    raise ValueError(\n",
      "ValueError: Solver newton-cg supports only 'l2' or 'none' penalties, got l1 penalty.\n",
      "\n",
      "  warnings.warn(some_fits_failed_message, FitFailedWarning)\n",
      "C:\\Users\\U\\AppData\\Roaming\\Python\\Python310\\site-packages\\sklearn\\model_selection\\_search.py:976: UserWarning: One or more of the test scores are non-finite: [0.49871977        nan        nan        nan 0.78479724 0.77711584\n",
      " 0.77711584 0.77711584 0.49871977        nan        nan        nan\n",
      " 0.78479724 0.77711584 0.77711584 0.77711584 0.49871977        nan\n",
      "        nan        nan 0.78479724 0.77711584 0.77711584 0.77711584\n",
      " 0.70968176        nan        nan        nan 0.79675941 0.7899218\n",
      " 0.7899218  0.7899218  0.70968176        nan        nan        nan\n",
      " 0.79675941 0.7899218  0.7899218  0.7899218  0.70968176        nan\n",
      "        nan        nan 0.79675941 0.7899218  0.7899218  0.7899218\n",
      " 0.81298418        nan        nan        nan 0.80444808 0.80188762\n",
      " 0.80188762 0.80188762 0.81298418        nan        nan        nan\n",
      " 0.80444808 0.80188762 0.80188762 0.80188762 0.81298418        nan\n",
      "        nan        nan 0.80444808 0.80188762 0.80188762 0.80188762\n",
      " 0.84117476        nan        nan        nan 0.82836879 0.8292235\n",
      " 0.82836879 0.8292235  0.84117476        nan        nan        nan\n",
      " 0.82836879 0.8292235  0.8292235  0.8292235  0.84117476        nan\n",
      "        nan        nan 0.82836879 0.8292235  0.8292235  0.8292235\n",
      " 0.84631388        nan        nan        nan 0.84289507 0.84460447\n",
      " 0.84289143 0.84289507 0.84545917        nan        nan        nan\n",
      " 0.84289507 0.84289507 0.84289507 0.84289507 0.84631388        nan\n",
      "        nan        nan 0.84289507 0.84289507 0.84289507 0.84289507]\n",
      "  warnings.warn(\n"
     ]
    },
    {
     "name": "stdout",
     "output_type": "stream",
     "text": [
      "Mejores parámetros: {'C': 10, 'max_iter': 100, 'penalty': 'l1', 'solver': 'liblinear'}\n",
      "Mejor puntuación en entrenamiento: 0.8463138752500455\n",
      "Puntuación en el conjunto de prueba: 0.863481228668942\n",
      "Accuracy: 0.863481228668942\n",
      "\n",
      "Classification Report: \n",
      "               precision    recall  f1-score   support\n",
      "\n",
      "           0       0.89      0.84      0.86       148\n",
      "           1       0.84      0.89      0.87       145\n",
      "\n",
      "    accuracy                           0.86       293\n",
      "   macro avg       0.86      0.86      0.86       293\n",
      "weighted avg       0.86      0.86      0.86       293\n",
      "\n",
      "\n",
      "Confusion Matrix: \n",
      " [[124  24]\n",
      " [ 16 129]]\n",
      "----------------------------------------------------------------------------------------------------\n",
      "\n"
     ]
    }
   ],
   "source": [
    "for df in lista_df:\n",
    "    crear_evaluar_modelo(df)"
   ]
  },
  {
   "cell_type": "markdown",
   "metadata": {},
   "source": [
    "## SVM"
   ]
  },
  {
   "cell_type": "code",
   "execution_count": 66,
   "metadata": {},
   "outputs": [],
   "source": [
    "from sklearn.svm import SVC"
   ]
  },
  {
   "cell_type": "code",
   "execution_count": 77,
   "metadata": {},
   "outputs": [],
   "source": [
    "def crear_evaluar_modelo_SVM(df):\n",
    "    X = df.drop(columns=['Response'])\n",
    "    y = df['Response']\n",
    "    # X_train, X_test, y_train, y_test = train_test_split(X, y, test_size=0.2, random_state=42)\n",
    "    # print(\"Tamaño del conjunto de entrenamiento:\", len(X_train))\n",
    "    # print(\"Tamaño del conjunto de prueba:\", len(X_test))\n",
    "\n",
    "    # Aplicar SMOTE solo al conjunto de entrenamiento\n",
    "    smote = SMOTE(random_state=42)\n",
    "    X_resampled, y_resampled = smote.fit_resample(X, y)\n",
    "\n",
    "    \n",
    "    X_train, X_test, y_train, y_test = train_test_split(X_resampled, y_resampled, test_size=0.2, random_state=42)\n",
    "\n",
    "    # Verificar los porcentajes después del sobremuestreo\n",
    "    response_counts_resampled =  pd.Series(y_train).value_counts()\n",
    "    total_samples_resampled = len(y_train)\n",
    "    percentage_response_0_resampled = (response_counts_resampled[1] / total_samples_resampled) * 100\n",
    "    percentage_response_1_resampled = (response_counts_resampled[0] / total_samples_resampled) * 100\n",
    "\n",
    "    print(\"Porcentaje de Response 1 después del sobremuestreo:\", percentage_response_1_resampled)\n",
    "    print(\"Porcentaje de Response 0 después del sobremuestreo:\", percentage_response_0_resampled)\n",
    "\n",
    "    # Visualizar el balance de clases\n",
    "    plt.figure(figsize=(6, 4))\n",
    "    plt.bar(['Response 1', 'Response 0'], [percentage_response_1_resampled, percentage_response_0_resampled])\n",
    "    plt.xlabel('Clases')\n",
    "    plt.ylabel('Porcentaje de Ejemplos')\n",
    "    plt.title('Balance de Clases')\n",
    "    plt.show()\n",
    "\n",
    "    print(\"Tamaño del conjunto de entrenamiento:\", len(X_train))\n",
    "    print(\"Tamaño del conjunto de prueba:\", len(X_test))\n",
    "\n",
    "    # Creamos modelo\n",
    "    model = SVC()\n",
    "    model.fit(X_train, y_train)\n",
    "    model.score(X_test, y_test)\n",
    "\n",
    "    param_grid = {\n",
    "        'C': [0.001, 0.01, 0.1, 1, 10],\n",
    "        'kernel': ['linear', 'poly', 'rbf', 'sigmoid'],\n",
    "        'gamma': ['scale', 'auto'],\n",
    "        'class_weight': ['balanced', None]\n",
    "    }\n",
    "\n",
    "    grid_search = GridSearchCV(SVC(), param_grid, cv=5, scoring='accuracy')\n",
    "    grid_search.fit(X_train, y_train)\n",
    "\n",
    "    best_params = grid_search.best_params_\n",
    "    best_score = grid_search.best_score_\n",
    "\n",
    "    print(\"Mejores parámetros:\", best_params)\n",
    "    print(\"Mejor puntuación en entrenamiento:\", best_score)\n",
    "\n",
    "    # Una vez que encuentres los mejores parámetros, puedes usarlos para entrenar el modelo final\n",
    "    best_clf = SVC(**best_params)\n",
    "    best_clf.fit(X_train, y_train)\n",
    "    test_score = best_clf.score(X_test, y_test)\n",
    "    print(\"\\nPuntuación en el conjunto de prueba:\", test_score)\n",
    "\n",
    "    # Evaluamos\n",
    "    y_pred = best_clf.predict(X_test)\n",
    "\n",
    "    # Evaluar rendimiento del modelo\n",
    "    accuracy = accuracy_score(y_test, y_pred)\n",
    "    classification_report_result = classification_report(y_test, y_pred)\n",
    "    conf_matrix = confusion_matrix(y_test, y_pred)\n",
    "\n",
    "    # Imprimir resultados\n",
    "    print(\"Accuracy:\", accuracy)\n",
    "    print(\"\\nClassification Report: \\n\", classification_report_result)\n",
    "    print(\"\\nConfusion Matrix: \\n\", conf_matrix)\n",
    "    print(\"-\"*100)\n",
    "    print(\"\")"
   ]
  },
  {
   "cell_type": "code",
   "execution_count": 78,
   "metadata": {},
   "outputs": [
    {
     "name": "stdout",
     "output_type": "stream",
     "text": [
      "Porcentaje de Response 1 después del sobremuestreo: 50.0\n",
      "Porcentaje de Response 0 después del sobremuestreo: 50.0\n"
     ]
    },
    {
     "data": {
      "image/png": "[encoded data removed]",
      "text/plain": [
       "<Figure size 600x400 with 1 Axes>"
      ]
     },
     "metadata": {},
     "output_type": "display_data"
    },
    {
     "name": "stdout",
     "output_type": "stream",
     "text": [
      "Tamaño del conjunto de entrenamiento: 742\n",
      "Tamaño del conjunto de prueba: 186\n",
      "Mejores parámetros: {'C': 10, 'class_weight': 'balanced', 'gamma': 'auto', 'kernel': 'rbf'}\n",
      "Mejor puntuación en entrenamiento: 0.8988935243968801\n",
      "\n",
      "Puntuación en el conjunto de prueba: 0.9086021505376344\n",
      "Accuracy: 0.9086021505376344\n",
      "\n",
      "Classification Report: \n",
      "               precision    recall  f1-score   support\n",
      "\n",
      "           0       0.92      0.89      0.91        93\n",
      "           1       0.90      0.92      0.91        93\n",
      "\n",
      "    accuracy                           0.91       186\n",
      "   macro avg       0.91      0.91      0.91       186\n",
      "weighted avg       0.91      0.91      0.91       186\n",
      "\n",
      "\n",
      "Confusion Matrix: \n",
      " [[83 10]\n",
      " [ 7 86]]\n",
      "----------------------------------------------------------------------------------------------------\n",
      "\n",
      "Porcentaje de Response 1 después del sobremuestreo: 49.29435483870967\n",
      "Porcentaje de Response 0 después del sobremuestreo: 50.70564516129033\n"
     ]
    },
    {
     "data": {
      "image/png": "[encoded data removed]",
      "text/plain": [
       "<Figure size 600x400 with 1 Axes>"
      ]
     },
     "metadata": {},
     "output_type": "display_data"
    },
    {
     "name": "stdout",
     "output_type": "stream",
     "text": [
      "Tamaño del conjunto de entrenamiento: 992\n",
      "Tamaño del conjunto de prueba: 248\n",
      "Mejores parámetros: {'C': 10, 'class_weight': None, 'gamma': 'auto', 'kernel': 'rbf'}\n",
      "Mejor puntuación en entrenamiento: 0.9213999289376174\n",
      "\n",
      "Puntuación en el conjunto de prueba: 0.9233870967741935\n",
      "Accuracy: 0.9233870967741935\n",
      "\n",
      "Classification Report: \n",
      "               precision    recall  f1-score   support\n",
      "\n",
      "           0       0.96      0.89      0.92       131\n",
      "           1       0.89      0.96      0.92       117\n",
      "\n",
      "    accuracy                           0.92       248\n",
      "   macro avg       0.92      0.93      0.92       248\n",
      "weighted avg       0.93      0.92      0.92       248\n",
      "\n",
      "\n",
      "Confusion Matrix: \n",
      " [[117  14]\n",
      " [  5 112]]\n",
      "----------------------------------------------------------------------------------------------------\n",
      "\n",
      "Porcentaje de Response 1 después del sobremuestreo: 49.87190435525192\n",
      "Porcentaje de Response 0 después del sobremuestreo: 50.128095644748086\n"
     ]
    },
    {
     "data": {
      "image/png": "[encoded data removed]",
      "text/plain": [
       "<Figure size 600x400 with 1 Axes>"
      ]
     },
     "metadata": {},
     "output_type": "display_data"
    },
    {
     "name": "stdout",
     "output_type": "stream",
     "text": [
      "Tamaño del conjunto de entrenamiento: 1171\n",
      "Tamaño del conjunto de prueba: 293\n",
      "Mejores parámetros: {'C': 10, 'class_weight': None, 'gamma': 'scale', 'kernel': 'rbf'}\n",
      "Mejor puntuación en entrenamiento: 0.8889907255864703\n",
      "\n",
      "Puntuación en el conjunto de prueba: 0.8839590443686007\n",
      "Accuracy: 0.8839590443686007\n",
      "\n",
      "Classification Report: \n",
      "               precision    recall  f1-score   support\n",
      "\n",
      "           0       0.90      0.86      0.88       148\n",
      "           1       0.87      0.90      0.89       145\n",
      "\n",
      "    accuracy                           0.88       293\n",
      "   macro avg       0.88      0.88      0.88       293\n",
      "weighted avg       0.88      0.88      0.88       293\n",
      "\n",
      "\n",
      "Confusion Matrix: \n",
      " [[128  20]\n",
      " [ 14 131]]\n",
      "----------------------------------------------------------------------------------------------------\n",
      "\n"
     ]
    }
   ],
   "source": [
    "for df in lista_df:\n",
    "    crear_evaluar_modelo_SVM(df)"
   ]
  },
  {
   "cell_type": "code",
   "execution_count": 32,
   "metadata": {},
   "outputs": [
    {
     "name": "stdout",
     "output_type": "stream",
     "text": [
      "Tamaño del conjunto de entrenamiento: 1493\n",
      "Tamaño del conjunto de prueba: 640\n"
     ]
    }
   ],
   "source": [
    "X_regresion = df_regresion.drop(columns=['Response'])\n",
    "y_regresion = df_regresion['Response']\n",
    "\n",
    "X_train_regresion, X_test_regresion, y_train_regresion, y_test_regresion = train_test_split(X_regresion, y_regresion, test_size=0.3, random_state=42)\n",
    "\n",
    "print(\"Tamaño del conjunto de entrenamiento:\", len(X_train_regresion))\n",
    "print(\"Tamaño del conjunto de prueba:\", len(X_test_regresion))"
   ]
  },
  {
   "cell_type": "markdown",
   "metadata": {},
   "source": [
    "## Nuevo"
   ]
  },
  {
   "cell_type": "markdown",
   "metadata": {},
   "source": [
    "### Se realiza un oversampling para aumentar la cantidad de ejemplos en la clase minoritaria"
   ]
  },
  {
   "cell_type": "code",
   "execution_count": 33,
   "metadata": {},
   "outputs": [],
   "source": [
    "from imblearn.over_sampling import SMOTE"
   ]
  },
  {
   "cell_type": "code",
   "execution_count": 34,
   "metadata": {},
   "outputs": [],
   "source": [
    "# Aplicar SMOTE solo al conjunto de entrenamiento\n",
    "smote = SMOTE(random_state=42)\n",
    "X_train_resampled, y_train_resampled = smote.fit_resample(X_train_regresion, y_train_regresion)"
   ]
  },
  {
   "cell_type": "code",
   "execution_count": 43,
   "metadata": {},
   "outputs": [
    {
     "name": "stdout",
     "output_type": "stream",
     "text": [
      "Porcentaje de Response 1 después del sobremuestreo: 50.0\n",
      "Porcentaje de Response 0 después del sobremuestreo: 50.0\n"
     ]
    },
    {
     "data": {
      "image/png": "[encoded data removed]",
      "text/plain": [
       "<Figure size 600x400 with 1 Axes>"
      ]
     },
     "metadata": {},
     "output_type": "display_data"
    },
    {
     "name": "stdout",
     "output_type": "stream",
     "text": [
      "Tamaño del conjunto de entrenamiento: 2536\n",
      "Tamaño del conjunto de prueba: 640\n"
     ]
    }
   ],
   "source": [
    "# Verificar los porcentajes después del sobremuestreo\n",
    "response_counts_resampled =  pd.Series(y_train_resampled).value_counts()\n",
    "total_samples_resampled = len(y_train_resampled)\n",
    "percentage_response_0_resampled = (response_counts_resampled[1] / total_samples_resampled) * 100\n",
    "percentage_response_1_resampled = (response_counts_resampled[0] / total_samples_resampled) * 100\n",
    "\n",
    "print(\"Porcentaje de Response 1 después del sobremuestreo:\", percentage_response_1_resampled)\n",
    "print(\"Porcentaje de Response 0 después del sobremuestreo:\", percentage_response_0_resampled)\n",
    "\n",
    "# Visualizar el balance de clases\n",
    "plt.figure(figsize=(6, 4))\n",
    "plt.bar(['Response 1', 'Response 0'], [percentage_response_1_resampled, percentage_response_0_resampled])\n",
    "plt.xlabel('Clases')\n",
    "plt.ylabel('Porcentaje de Ejemplos')\n",
    "plt.title('Balance de Clases')\n",
    "plt.show()\n",
    "\n",
    "print(\"Tamaño del conjunto de entrenamiento:\", len(X_train_resampled))\n",
    "print(\"Tamaño del conjunto de prueba:\", len(X_test_regresion))"
   ]
  },
  {
   "cell_type": "markdown",
   "metadata": {},
   "source": [
    "### Este modelo de Regresión Logística es usando oversampling"
   ]
  },
  {
   "cell_type": "code",
   "execution_count": 37,
   "metadata": {},
   "outputs": [],
   "source": [
    "from sklearn.linear_model import LogisticRegression"
   ]
  },
  {
   "cell_type": "code",
   "execution_count": 38,
   "metadata": {},
   "outputs": [
    {
     "data": {
      "text/plain": [
       "0.8234375"
      ]
     },
     "execution_count": 38,
     "metadata": {},
     "output_type": "execute_result"
    }
   ],
   "source": [
    "model = LogisticRegression()\n",
    "model.fit(X_train_resampled, y_train_resampled)\n",
    "model.score(X_test_regresion, y_test_regresion)"
   ]
  },
  {
   "cell_type": "code",
   "execution_count": 39,
   "metadata": {},
   "outputs": [
    {
     "name": "stderr",
     "output_type": "stream",
     "text": [
      "C:\\Users\\U\\AppData\\Roaming\\Python\\Python310\\site-packages\\sklearn\\linear_model\\_sag.py:350: ConvergenceWarning: The max_iter was reached which means the coef_ did not converge\n",
      "  warnings.warn(\n",
      "C:\\Users\\U\\AppData\\Roaming\\Python\\Python310\\site-packages\\sklearn\\linear_model\\_sag.py:350: ConvergenceWarning: The max_iter was reached which means the coef_ did not converge\n",
      "  warnings.warn(\n",
      "C:\\Users\\U\\AppData\\Roaming\\Python\\Python310\\site-packages\\sklearn\\linear_model\\_logistic.py:460: ConvergenceWarning: lbfgs failed to converge (status=1):\n",
      "STOP: TOTAL NO. of ITERATIONS REACHED LIMIT.\n",
      "\n",
      "Increase the number of iterations (max_iter) or scale the data as shown in:\n",
      "    https://scikit-learn.org/stable/modules/preprocessing.html\n",
      "Please also refer to the documentation for alternative solver options:\n",
      "    https://scikit-learn.org/stable/modules/linear_model.html#logistic-regression\n",
      "  n_iter_i = _check_optimize_result(\n",
      "C:\\Users\\U\\AppData\\Roaming\\Python\\Python310\\site-packages\\sklearn\\linear_model\\_logistic.py:460: ConvergenceWarning: lbfgs failed to converge (status=1):\n",
      "STOP: TOTAL NO. of ITERATIONS REACHED LIMIT.\n",
      "\n",
      "Increase the number of iterations (max_iter) or scale the data as shown in:\n",
      "    https://scikit-learn.org/stable/modules/preprocessing.html\n",
      "Please also refer to the documentation for alternative solver options:\n",
      "    https://scikit-learn.org/stable/modules/linear_model.html#logistic-regression\n",
      "  n_iter_i = _check_optimize_result(\n",
      "C:\\Users\\U\\AppData\\Roaming\\Python\\Python310\\site-packages\\sklearn\\linear_model\\_logistic.py:460: ConvergenceWarning: lbfgs failed to converge (status=1):\n",
      "STOP: TOTAL NO. of ITERATIONS REACHED LIMIT.\n",
      "\n",
      "Increase the number of iterations (max_iter) or scale the data as shown in:\n",
      "    https://scikit-learn.org/stable/modules/preprocessing.html\n",
      "Please also refer to the documentation for alternative solver options:\n",
      "    https://scikit-learn.org/stable/modules/linear_model.html#logistic-regression\n",
      "  n_iter_i = _check_optimize_result(\n",
      "C:\\Users\\U\\AppData\\Roaming\\Python\\Python310\\site-packages\\sklearn\\linear_model\\_logistic.py:460: ConvergenceWarning: lbfgs failed to converge (status=1):\n",
      "STOP: TOTAL NO. of ITERATIONS REACHED LIMIT.\n",
      "\n",
      "Increase the number of iterations (max_iter) or scale the data as shown in:\n",
      "    https://scikit-learn.org/stable/modules/preprocessing.html\n",
      "Please also refer to the documentation for alternative solver options:\n",
      "    https://scikit-learn.org/stable/modules/linear_model.html#logistic-regression\n",
      "  n_iter_i = _check_optimize_result(\n",
      "C:\\Users\\U\\AppData\\Roaming\\Python\\Python310\\site-packages\\sklearn\\linear_model\\_sag.py:350: ConvergenceWarning: The max_iter was reached which means the coef_ did not converge\n",
      "  warnings.warn(\n",
      "C:\\Users\\U\\AppData\\Roaming\\Python\\Python310\\site-packages\\sklearn\\linear_model\\_sag.py:350: ConvergenceWarning: The max_iter was reached which means the coef_ did not converge\n",
      "  warnings.warn(\n",
      "C:\\Users\\U\\AppData\\Roaming\\Python\\Python310\\site-packages\\sklearn\\linear_model\\_sag.py:350: ConvergenceWarning: The max_iter was reached which means the coef_ did not converge\n",
      "  warnings.warn(\n",
      "C:\\Users\\U\\AppData\\Roaming\\Python\\Python310\\site-packages\\sklearn\\linear_model\\_sag.py:350: ConvergenceWarning: The max_iter was reached which means the coef_ did not converge\n",
      "  warnings.warn(\n",
      "C:\\Users\\U\\AppData\\Roaming\\Python\\Python310\\site-packages\\sklearn\\linear_model\\_sag.py:350: ConvergenceWarning: The max_iter was reached which means the coef_ did not converge\n",
      "  warnings.warn(\n",
      "C:\\Users\\U\\AppData\\Roaming\\Python\\Python310\\site-packages\\sklearn\\linear_model\\_sag.py:350: ConvergenceWarning: The max_iter was reached which means the coef_ did not converge\n",
      "  warnings.warn(\n",
      "C:\\Users\\U\\AppData\\Roaming\\Python\\Python310\\site-packages\\sklearn\\linear_model\\_sag.py:350: ConvergenceWarning: The max_iter was reached which means the coef_ did not converge\n",
      "  warnings.warn(\n",
      "C:\\Users\\U\\AppData\\Roaming\\Python\\Python310\\site-packages\\sklearn\\linear_model\\_sag.py:350: ConvergenceWarning: The max_iter was reached which means the coef_ did not converge\n",
      "  warnings.warn(\n",
      "C:\\Users\\U\\AppData\\Roaming\\Python\\Python310\\site-packages\\sklearn\\linear_model\\_sag.py:350: ConvergenceWarning: The max_iter was reached which means the coef_ did not converge\n",
      "  warnings.warn(\n",
      "C:\\Users\\U\\AppData\\Roaming\\Python\\Python310\\site-packages\\sklearn\\linear_model\\_sag.py:350: ConvergenceWarning: The max_iter was reached which means the coef_ did not converge\n",
      "  warnings.warn(\n",
      "C:\\Users\\U\\AppData\\Roaming\\Python\\Python310\\site-packages\\sklearn\\linear_model\\_sag.py:350: ConvergenceWarning: The max_iter was reached which means the coef_ did not converge\n",
      "  warnings.warn(\n",
      "C:\\Users\\U\\AppData\\Roaming\\Python\\Python310\\site-packages\\sklearn\\linear_model\\_sag.py:350: ConvergenceWarning: The max_iter was reached which means the coef_ did not converge\n",
      "  warnings.warn(\n",
      "C:\\Users\\U\\AppData\\Roaming\\Python\\Python310\\site-packages\\sklearn\\linear_model\\_sag.py:350: ConvergenceWarning: The max_iter was reached which means the coef_ did not converge\n",
      "  warnings.warn(\n",
      "C:\\Users\\U\\AppData\\Roaming\\Python\\Python310\\site-packages\\sklearn\\linear_model\\_sag.py:350: ConvergenceWarning: The max_iter was reached which means the coef_ did not converge\n",
      "  warnings.warn(\n",
      "C:\\Users\\U\\AppData\\Roaming\\Python\\Python310\\site-packages\\sklearn\\linear_model\\_sag.py:350: ConvergenceWarning: The max_iter was reached which means the coef_ did not converge\n",
      "  warnings.warn(\n"
     ]
    },
    {
     "name": "stdout",
     "output_type": "stream",
     "text": [
      "Mejores parámetros: {'C': 10, 'max_iter': 100, 'penalty': 'l2', 'solver': 'liblinear'}\n",
      "Mejor puntuación en entrenamiento: 0.8379482520306263\n",
      "Puntuación en el conjunto de prueba: 0.825\n"
     ]
    },
    {
     "name": "stderr",
     "output_type": "stream",
     "text": [
      "C:\\Users\\U\\AppData\\Roaming\\Python\\Python310\\site-packages\\sklearn\\model_selection\\_validation.py:425: FitFailedWarning: \n",
      "225 fits failed out of a total of 600.\n",
      "The score on these train-test partitions for these parameters will be set to nan.\n",
      "If these failures are not expected, you can try to debug them by setting error_score='raise'.\n",
      "\n",
      "Below are more details about the failures:\n",
      "--------------------------------------------------------------------------------\n",
      "75 fits failed with the following error:\n",
      "Traceback (most recent call last):\n",
      "  File \"C:\\Users\\U\\AppData\\Roaming\\Python\\Python310\\site-packages\\sklearn\\model_selection\\_validation.py\", line 732, in _fit_and_score\n",
      "    estimator.fit(X_train, y_train, **fit_params)\n",
      "  File \"C:\\Users\\U\\AppData\\Roaming\\Python\\Python310\\site-packages\\sklearn\\base.py\", line 1151, in wrapper\n",
      "    return fit_method(estimator, *args, **kwargs)\n",
      "  File \"C:\\Users\\U\\AppData\\Roaming\\Python\\Python310\\site-packages\\sklearn\\linear_model\\_logistic.py\", line 1168, in fit\n",
      "    solver = _check_solver(self.solver, self.penalty, self.dual)\n",
      "  File \"C:\\Users\\U\\AppData\\Roaming\\Python\\Python310\\site-packages\\sklearn\\linear_model\\_logistic.py\", line 56, in _check_solver\n",
      "    raise ValueError(\n",
      "ValueError: Solver lbfgs supports only 'l2' or 'none' penalties, got l1 penalty.\n",
      "\n",
      "--------------------------------------------------------------------------------\n",
      "75 fits failed with the following error:\n",
      "Traceback (most recent call last):\n",
      "  File \"C:\\Users\\U\\AppData\\Roaming\\Python\\Python310\\site-packages\\sklearn\\model_selection\\_validation.py\", line 732, in _fit_and_score\n",
      "    estimator.fit(X_train, y_train, **fit_params)\n",
      "  File \"C:\\Users\\U\\AppData\\Roaming\\Python\\Python310\\site-packages\\sklearn\\base.py\", line 1151, in wrapper\n",
      "    return fit_method(estimator, *args, **kwargs)\n",
      "  File \"C:\\Users\\U\\AppData\\Roaming\\Python\\Python310\\site-packages\\sklearn\\linear_model\\_logistic.py\", line 1168, in fit\n",
      "    solver = _check_solver(self.solver, self.penalty, self.dual)\n",
      "  File \"C:\\Users\\U\\AppData\\Roaming\\Python\\Python310\\site-packages\\sklearn\\linear_model\\_logistic.py\", line 56, in _check_solver\n",
      "    raise ValueError(\n",
      "ValueError: Solver sag supports only 'l2' or 'none' penalties, got l1 penalty.\n",
      "\n",
      "--------------------------------------------------------------------------------\n",
      "75 fits failed with the following error:\n",
      "Traceback (most recent call last):\n",
      "  File \"C:\\Users\\U\\AppData\\Roaming\\Python\\Python310\\site-packages\\sklearn\\model_selection\\_validation.py\", line 732, in _fit_and_score\n",
      "    estimator.fit(X_train, y_train, **fit_params)\n",
      "  File \"C:\\Users\\U\\AppData\\Roaming\\Python\\Python310\\site-packages\\sklearn\\base.py\", line 1151, in wrapper\n",
      "    return fit_method(estimator, *args, **kwargs)\n",
      "  File \"C:\\Users\\U\\AppData\\Roaming\\Python\\Python310\\site-packages\\sklearn\\linear_model\\_logistic.py\", line 1168, in fit\n",
      "    solver = _check_solver(self.solver, self.penalty, self.dual)\n",
      "  File \"C:\\Users\\U\\AppData\\Roaming\\Python\\Python310\\site-packages\\sklearn\\linear_model\\_logistic.py\", line 56, in _check_solver\n",
      "    raise ValueError(\n",
      "ValueError: Solver newton-cg supports only 'l2' or 'none' penalties, got l1 penalty.\n",
      "\n",
      "  warnings.warn(some_fits_failed_message, FitFailedWarning)\n",
      "C:\\Users\\U\\AppData\\Roaming\\Python\\Python310\\site-packages\\sklearn\\model_selection\\_search.py:976: UserWarning: One or more of the test scores are non-finite: [0.5               nan        nan        nan 0.76458712 0.76734535\n",
      " 0.76734535 0.76734535 0.5               nan        nan        nan\n",
      " 0.76458712 0.76734535 0.76734535 0.76734535 0.5               nan\n",
      "        nan        nan 0.76458712 0.76734535 0.76734535 0.76734535\n",
      " 0.77050195        nan        nan        nan 0.81111603 0.8099357\n",
      " 0.8099357  0.8099357  0.77050195        nan        nan        nan\n",
      " 0.81111603 0.8099357  0.80954123 0.8099357  0.77050195        nan\n",
      "        nan        nan 0.81111603 0.8099357  0.8099357  0.8099357\n",
      " 0.82177391        nan        nan        nan 0.82532032 0.82610927\n",
      " 0.82610927 0.82610927 0.82177391        nan        nan        nan\n",
      " 0.82532032 0.82610927 0.82610927 0.82610927 0.82177391        nan\n",
      "        nan        nan 0.82532032 0.82610927 0.82610927 0.82610927\n",
      " 0.83715852        nan        nan        nan 0.83361133 0.83400503\n",
      " 0.83400503 0.83400503 0.83715852        nan        nan        nan\n",
      " 0.83361133 0.83400503 0.83400503 0.83400503 0.83715852        nan\n",
      "        nan        nan 0.83361133 0.83400503 0.83400503 0.83400503\n",
      " 0.83755455        nan        nan        nan 0.83794825 0.83794825\n",
      " 0.83755377 0.83794825 0.83755455        nan        nan        nan\n",
      " 0.83794825 0.83794825 0.83755455 0.83794825 0.83755455        nan\n",
      "        nan        nan 0.83794825 0.83794825 0.83755455 0.83794825]\n",
      "  warnings.warn(\n"
     ]
    }
   ],
   "source": [
    "param_grid = {\n",
    "    'C': [0.001, 0.01, 0.1, 1, 10],\n",
    "    'penalty': ['l1', 'l2'],\n",
    "    'solver': ['liblinear', 'lbfgs', 'sag', 'newton-cg'],\n",
    "    'max_iter': [100, 200, 300]\n",
    "}\n",
    "\n",
    "grid_search = GridSearchCV(LogisticRegression(), param_grid, cv=5)\n",
    "grid_search.fit(X_train_resampled, y_train_resampled)\n",
    "\n",
    "best_params = grid_search.best_params_\n",
    "best_score = grid_search.best_score_\n",
    "\n",
    "print(\"Mejores parámetros:\", best_params)\n",
    "print(\"Mejor puntuación en entrenamiento:\", best_score)\n",
    "\n",
    "# Una vez que encuentres los mejores parámetros, puedes usarlos para entrenar el modelo final\n",
    "best_clf = LogisticRegression(**best_params)\n",
    "best_clf.fit(X_train_resampled, y_train_resampled)\n",
    "test_score = best_clf.score(X_test_regresion, y_test_regresion)\n",
    "print(\"Puntuación en el conjunto de prueba:\", test_score)"
   ]
  },
  {
   "cell_type": "markdown",
   "metadata": {},
   "source": [
    "### Evaluamos"
   ]
  },
  {
   "cell_type": "code",
   "execution_count": 40,
   "metadata": {},
   "outputs": [
    {
     "name": "stdout",
     "output_type": "stream",
     "text": [
      "Accuracy: 0.825\n",
      "\n",
      "Classification Report: \n",
      "               precision    recall  f1-score   support\n",
      "\n",
      "           0       0.93      0.86      0.89       548\n",
      "           1       0.43      0.63      0.51        92\n",
      "\n",
      "    accuracy                           0.82       640\n",
      "   macro avg       0.68      0.74      0.70       640\n",
      "weighted avg       0.86      0.82      0.84       640\n",
      "\n",
      "\n",
      "Confusion Matrix: \n",
      " [[470  78]\n",
      " [ 34  58]]\n"
     ]
    }
   ],
   "source": [
    "y_pred = best_clf.predict(X_test_regresion)\n",
    "\n",
    "# Evaluar rendimiento del modelo\n",
    "accuracy = accuracy_score(y_test_regresion, y_pred)\n",
    "classification_report_result = classification_report(y_test_regresion, y_pred)\n",
    "conf_matrix = confusion_matrix(y_test_regresion, y_pred)\n",
    "\n",
    "# Imprimir resultados\n",
    "print(\"Accuracy:\", accuracy)\n",
    "print(\"\\nClassification Report: \\n\", classification_report_result)\n",
    "print(\"\\nConfusion Matrix: \\n\", conf_matrix)"
   ]
  },
  {
   "cell_type": "markdown",
   "metadata": {},
   "source": [
    "## Antiguo"
   ]
  },
  {
   "cell_type": "markdown",
   "metadata": {},
   "source": [
    "### Creamos modelo Regresión Logística"
   ]
  },
  {
   "cell_type": "code",
   "execution_count": 44,
   "metadata": {},
   "outputs": [
    {
     "data": {
      "text/plain": [
       "0.890625"
      ]
     },
     "execution_count": 44,
     "metadata": {},
     "output_type": "execute_result"
    }
   ],
   "source": [
    "from sklearn.linear_model import LogisticRegression\n",
    "\n",
    "clf = LogisticRegression()\n",
    "clf.fit(X_train_regresion, y_train_regresion)\n",
    "clf.score(X_test_regresion, y_test_regresion)"
   ]
  },
  {
   "cell_type": "code",
   "execution_count": 46,
   "metadata": {},
   "outputs": [
    {
     "name": "stderr",
     "output_type": "stream",
     "text": [
      "C:\\Users\\U\\AppData\\Roaming\\Python\\Python310\\site-packages\\sklearn\\linear_model\\_sag.py:350: ConvergenceWarning: The max_iter was reached which means the coef_ did not converge\n",
      "  warnings.warn(\n",
      "C:\\Users\\U\\AppData\\Roaming\\Python\\Python310\\site-packages\\sklearn\\linear_model\\_sag.py:350: ConvergenceWarning: The max_iter was reached which means the coef_ did not converge\n",
      "  warnings.warn(\n",
      "C:\\Users\\U\\AppData\\Roaming\\Python\\Python310\\site-packages\\sklearn\\linear_model\\_sag.py:350: ConvergenceWarning: The max_iter was reached which means the coef_ did not converge\n",
      "  warnings.warn(\n",
      "C:\\Users\\U\\AppData\\Roaming\\Python\\Python310\\site-packages\\sklearn\\linear_model\\_sag.py:350: ConvergenceWarning: The max_iter was reached which means the coef_ did not converge\n",
      "  warnings.warn(\n",
      "C:\\Users\\U\\AppData\\Roaming\\Python\\Python310\\site-packages\\sklearn\\linear_model\\_sag.py:350: ConvergenceWarning: The max_iter was reached which means the coef_ did not converge\n",
      "  warnings.warn(\n",
      "C:\\Users\\U\\AppData\\Roaming\\Python\\Python310\\site-packages\\sklearn\\linear_model\\_sag.py:350: ConvergenceWarning: The max_iter was reached which means the coef_ did not converge\n",
      "  warnings.warn(\n",
      "C:\\Users\\U\\AppData\\Roaming\\Python\\Python310\\site-packages\\sklearn\\linear_model\\_sag.py:350: ConvergenceWarning: The max_iter was reached which means the coef_ did not converge\n",
      "  warnings.warn(\n",
      "C:\\Users\\U\\AppData\\Roaming\\Python\\Python310\\site-packages\\sklearn\\linear_model\\_sag.py:350: ConvergenceWarning: The max_iter was reached which means the coef_ did not converge\n",
      "  warnings.warn(\n",
      "C:\\Users\\U\\AppData\\Roaming\\Python\\Python310\\site-packages\\sklearn\\linear_model\\_sag.py:350: ConvergenceWarning: The max_iter was reached which means the coef_ did not converge\n",
      "  warnings.warn(\n",
      "C:\\Users\\U\\AppData\\Roaming\\Python\\Python310\\site-packages\\sklearn\\linear_model\\_sag.py:350: ConvergenceWarning: The max_iter was reached which means the coef_ did not converge\n",
      "  warnings.warn(\n",
      "C:\\Users\\U\\AppData\\Roaming\\Python\\Python310\\site-packages\\sklearn\\linear_model\\_sag.py:350: ConvergenceWarning: The max_iter was reached which means the coef_ did not converge\n",
      "  warnings.warn(\n",
      "C:\\Users\\U\\AppData\\Roaming\\Python\\Python310\\site-packages\\sklearn\\linear_model\\_logistic.py:460: ConvergenceWarning: lbfgs failed to converge (status=1):\n",
      "STOP: TOTAL NO. of ITERATIONS REACHED LIMIT.\n",
      "\n",
      "Increase the number of iterations (max_iter) or scale the data as shown in:\n",
      "    https://scikit-learn.org/stable/modules/preprocessing.html\n",
      "Please also refer to the documentation for alternative solver options:\n",
      "    https://scikit-learn.org/stable/modules/linear_model.html#logistic-regression\n",
      "  n_iter_i = _check_optimize_result(\n",
      "C:\\Users\\U\\AppData\\Roaming\\Python\\Python310\\site-packages\\sklearn\\linear_model\\_logistic.py:460: ConvergenceWarning: lbfgs failed to converge (status=1):\n",
      "STOP: TOTAL NO. of ITERATIONS REACHED LIMIT.\n",
      "\n",
      "Increase the number of iterations (max_iter) or scale the data as shown in:\n",
      "    https://scikit-learn.org/stable/modules/preprocessing.html\n",
      "Please also refer to the documentation for alternative solver options:\n",
      "    https://scikit-learn.org/stable/modules/linear_model.html#logistic-regression\n",
      "  n_iter_i = _check_optimize_result(\n",
      "C:\\Users\\U\\AppData\\Roaming\\Python\\Python310\\site-packages\\sklearn\\linear_model\\_logistic.py:460: ConvergenceWarning: lbfgs failed to converge (status=1):\n",
      "STOP: TOTAL NO. of ITERATIONS REACHED LIMIT.\n",
      "\n",
      "Increase the number of iterations (max_iter) or scale the data as shown in:\n",
      "    https://scikit-learn.org/stable/modules/preprocessing.html\n",
      "Please also refer to the documentation for alternative solver options:\n",
      "    https://scikit-learn.org/stable/modules/linear_model.html#logistic-regression\n",
      "  n_iter_i = _check_optimize_result(\n",
      "C:\\Users\\U\\AppData\\Roaming\\Python\\Python310\\site-packages\\sklearn\\linear_model\\_sag.py:350: ConvergenceWarning: The max_iter was reached which means the coef_ did not converge\n",
      "  warnings.warn(\n",
      "C:\\Users\\U\\AppData\\Roaming\\Python\\Python310\\site-packages\\sklearn\\linear_model\\_sag.py:350: ConvergenceWarning: The max_iter was reached which means the coef_ did not converge\n",
      "  warnings.warn(\n",
      "C:\\Users\\U\\AppData\\Roaming\\Python\\Python310\\site-packages\\sklearn\\linear_model\\_sag.py:350: ConvergenceWarning: The max_iter was reached which means the coef_ did not converge\n",
      "  warnings.warn(\n",
      "C:\\Users\\U\\AppData\\Roaming\\Python\\Python310\\site-packages\\sklearn\\linear_model\\_sag.py:350: ConvergenceWarning: The max_iter was reached which means the coef_ did not converge\n",
      "  warnings.warn(\n",
      "C:\\Users\\U\\AppData\\Roaming\\Python\\Python310\\site-packages\\sklearn\\linear_model\\_sag.py:350: ConvergenceWarning: The max_iter was reached which means the coef_ did not converge\n",
      "  warnings.warn(\n",
      "C:\\Users\\U\\AppData\\Roaming\\Python\\Python310\\site-packages\\sklearn\\linear_model\\_sag.py:350: ConvergenceWarning: The max_iter was reached which means the coef_ did not converge\n",
      "  warnings.warn(\n",
      "C:\\Users\\U\\AppData\\Roaming\\Python\\Python310\\site-packages\\sklearn\\linear_model\\_sag.py:350: ConvergenceWarning: The max_iter was reached which means the coef_ did not converge\n",
      "  warnings.warn(\n",
      "C:\\Users\\U\\AppData\\Roaming\\Python\\Python310\\site-packages\\sklearn\\linear_model\\_sag.py:350: ConvergenceWarning: The max_iter was reached which means the coef_ did not converge\n",
      "  warnings.warn(\n",
      "C:\\Users\\U\\AppData\\Roaming\\Python\\Python310\\site-packages\\sklearn\\linear_model\\_sag.py:350: ConvergenceWarning: The max_iter was reached which means the coef_ did not converge\n",
      "  warnings.warn(\n",
      "C:\\Users\\U\\AppData\\Roaming\\Python\\Python310\\site-packages\\sklearn\\linear_model\\_sag.py:350: ConvergenceWarning: The max_iter was reached which means the coef_ did not converge\n",
      "  warnings.warn(\n",
      "C:\\Users\\U\\AppData\\Roaming\\Python\\Python310\\site-packages\\sklearn\\linear_model\\_sag.py:350: ConvergenceWarning: The max_iter was reached which means the coef_ did not converge\n",
      "  warnings.warn(\n",
      "C:\\Users\\U\\AppData\\Roaming\\Python\\Python310\\site-packages\\sklearn\\linear_model\\_sag.py:350: ConvergenceWarning: The max_iter was reached which means the coef_ did not converge\n",
      "  warnings.warn(\n",
      "C:\\Users\\U\\AppData\\Roaming\\Python\\Python310\\site-packages\\sklearn\\linear_model\\_sag.py:350: ConvergenceWarning: The max_iter was reached which means the coef_ did not converge\n",
      "  warnings.warn(\n",
      "C:\\Users\\U\\AppData\\Roaming\\Python\\Python310\\site-packages\\sklearn\\linear_model\\_sag.py:350: ConvergenceWarning: The max_iter was reached which means the coef_ did not converge\n",
      "  warnings.warn(\n",
      "C:\\Users\\U\\AppData\\Roaming\\Python\\Python310\\site-packages\\sklearn\\linear_model\\_sag.py:350: ConvergenceWarning: The max_iter was reached which means the coef_ did not converge\n",
      "  warnings.warn(\n",
      "C:\\Users\\U\\AppData\\Roaming\\Python\\Python310\\site-packages\\sklearn\\model_selection\\_validation.py:425: FitFailedWarning: \n",
      "225 fits failed out of a total of 600.\n",
      "The score on these train-test partitions for these parameters will be set to nan.\n",
      "If these failures are not expected, you can try to debug them by setting error_score='raise'.\n",
      "\n",
      "Below are more details about the failures:\n",
      "--------------------------------------------------------------------------------\n",
      "75 fits failed with the following error:\n",
      "Traceback (most recent call last):\n",
      "  File \"C:\\Users\\U\\AppData\\Roaming\\Python\\Python310\\site-packages\\sklearn\\model_selection\\_validation.py\", line 732, in _fit_and_score\n",
      "    estimator.fit(X_train, y_train, **fit_params)\n",
      "  File \"C:\\Users\\U\\AppData\\Roaming\\Python\\Python310\\site-packages\\sklearn\\base.py\", line 1151, in wrapper\n",
      "    return fit_method(estimator, *args, **kwargs)\n",
      "  File \"C:\\Users\\U\\AppData\\Roaming\\Python\\Python310\\site-packages\\sklearn\\linear_model\\_logistic.py\", line 1168, in fit\n",
      "    solver = _check_solver(self.solver, self.penalty, self.dual)\n",
      "  File \"C:\\Users\\U\\AppData\\Roaming\\Python\\Python310\\site-packages\\sklearn\\linear_model\\_logistic.py\", line 56, in _check_solver\n",
      "    raise ValueError(\n",
      "ValueError: Solver lbfgs supports only 'l2' or 'none' penalties, got l1 penalty.\n",
      "\n",
      "--------------------------------------------------------------------------------\n",
      "75 fits failed with the following error:\n",
      "Traceback (most recent call last):\n",
      "  File \"C:\\Users\\U\\AppData\\Roaming\\Python\\Python310\\site-packages\\sklearn\\model_selection\\_validation.py\", line 732, in _fit_and_score\n",
      "    estimator.fit(X_train, y_train, **fit_params)\n",
      "  File \"C:\\Users\\U\\AppData\\Roaming\\Python\\Python310\\site-packages\\sklearn\\base.py\", line 1151, in wrapper\n",
      "    return fit_method(estimator, *args, **kwargs)\n",
      "  File \"C:\\Users\\U\\AppData\\Roaming\\Python\\Python310\\site-packages\\sklearn\\linear_model\\_logistic.py\", line 1168, in fit\n",
      "    solver = _check_solver(self.solver, self.penalty, self.dual)\n",
      "  File \"C:\\Users\\U\\AppData\\Roaming\\Python\\Python310\\site-packages\\sklearn\\linear_model\\_logistic.py\", line 56, in _check_solver\n",
      "    raise ValueError(\n",
      "ValueError: Solver sag supports only 'l2' or 'none' penalties, got l1 penalty.\n",
      "\n",
      "--------------------------------------------------------------------------------\n",
      "75 fits failed with the following error:\n",
      "Traceback (most recent call last):\n",
      "  File \"C:\\Users\\U\\AppData\\Roaming\\Python\\Python310\\site-packages\\sklearn\\model_selection\\_validation.py\", line 732, in _fit_and_score\n",
      "    estimator.fit(X_train, y_train, **fit_params)\n",
      "  File \"C:\\Users\\U\\AppData\\Roaming\\Python\\Python310\\site-packages\\sklearn\\base.py\", line 1151, in wrapper\n",
      "    return fit_method(estimator, *args, **kwargs)\n",
      "  File \"C:\\Users\\U\\AppData\\Roaming\\Python\\Python310\\site-packages\\sklearn\\linear_model\\_logistic.py\", line 1168, in fit\n",
      "    solver = _check_solver(self.solver, self.penalty, self.dual)\n",
      "  File \"C:\\Users\\U\\AppData\\Roaming\\Python\\Python310\\site-packages\\sklearn\\linear_model\\_logistic.py\", line 56, in _check_solver\n",
      "    raise ValueError(\n",
      "ValueError: Solver newton-cg supports only 'l2' or 'none' penalties, got l1 penalty.\n",
      "\n",
      "  warnings.warn(some_fits_failed_message, FitFailedWarning)\n",
      "C:\\Users\\U\\AppData\\Roaming\\Python\\Python310\\site-packages\\sklearn\\model_selection\\_search.py:976: UserWarning: One or more of the test scores are non-finite: [0.84929631        nan        nan        nan 0.85864964 0.85331193\n",
      " 0.85331193 0.85331193 0.84929631        nan        nan        nan\n",
      " 0.85864964 0.85331193 0.85331193 0.85331193 0.84929631        nan\n",
      "        nan        nan 0.85864964 0.85331193 0.85331193 0.85331193\n",
      " 0.85598976        nan        nan        nan 0.87339903 0.87206797\n",
      " 0.87206797 0.87206797 0.85598976        nan        nan        nan\n",
      " 0.87339903 0.87206797 0.87206797 0.87206797 0.85598976        nan\n",
      "        nan        nan 0.87339903 0.87206797 0.87206797 0.87206797\n",
      " 0.88009921        nan        nan        nan 0.87941909 0.87874795\n",
      " 0.87874795 0.87874795 0.88009921        nan        nan        nan\n",
      " 0.87941909 0.87874795 0.87874795 0.87874795 0.88009921        nan\n",
      "        nan        nan 0.87941909 0.87874795 0.87874795 0.87874795\n",
      " 0.88209468        nan        nan        nan 0.88276806 0.88343696\n",
      " 0.88343696 0.88343696 0.88209468        nan        nan        nan\n",
      " 0.88276806 0.88343696 0.88343696 0.88343696 0.88209468        nan\n",
      "        nan        nan 0.88276806 0.88343696 0.88343696 0.88343696\n",
      " 0.88478149        nan        nan        nan 0.88411035 0.88411035\n",
      " 0.88478149 0.88411035 0.88478149        nan        nan        nan\n",
      " 0.88411035 0.88411035 0.88411035 0.88411035 0.88478149        nan\n",
      "        nan        nan 0.88411035 0.88411035 0.88411035 0.88411035]\n",
      "  warnings.warn(\n"
     ]
    },
    {
     "name": "stdout",
     "output_type": "stream",
     "text": [
      "Mejores parámetros: {'C': 10, 'max_iter': 100, 'penalty': 'l1', 'solver': 'liblinear'}\n",
      "Mejor puntuación en entrenamiento: 0.8847814863863886\n",
      "Puntuación en el conjunto de prueba: 0.8875\n"
     ]
    }
   ],
   "source": [
    "param_grid = {\n",
    "    'C': [0.001, 0.01, 0.1, 1, 10],\n",
    "    'penalty': ['l1', 'l2'],\n",
    "    'solver': ['liblinear', 'lbfgs', 'sag', 'newton-cg'],\n",
    "    'max_iter': [100, 200, 300]\n",
    "}\n",
    "\n",
    "grid_search = GridSearchCV(LogisticRegression(), param_grid, cv=5)\n",
    "grid_search.fit(X_train_regresion, y_train_regresion)\n",
    "\n",
    "best_params = grid_search.best_params_\n",
    "best_score = grid_search.best_score_\n",
    "\n",
    "print(\"Mejores parámetros:\", best_params)\n",
    "print(\"Mejor puntuación en entrenamiento:\", best_score)\n",
    "\n",
    "# Una vez que encuentres los mejores parámetros, puedes usarlos para entrenar el modelo final\n",
    "best_clf = LogisticRegression(**best_params)\n",
    "best_clf.fit(X_train_regresion, y_train_regresion)\n",
    "test_score = best_clf.score(X_test_regresion, y_test_regresion)\n",
    "print(\"Puntuación en el conjunto de prueba:\", test_score)"
   ]
  },
  {
   "cell_type": "markdown",
   "metadata": {},
   "source": [
    "### Evaluamos"
   ]
  },
  {
   "cell_type": "code",
   "execution_count": 47,
   "metadata": {},
   "outputs": [
    {
     "name": "stdout",
     "output_type": "stream",
     "text": [
      "Accuracy: 0.8875\n",
      "              precision    recall  f1-score   support\n",
      "\n",
      "           0       0.90      0.98      0.94       548\n",
      "           1       0.75      0.33      0.45        92\n",
      "\n",
      "    accuracy                           0.89       640\n",
      "   macro avg       0.82      0.65      0.70       640\n",
      "weighted avg       0.88      0.89      0.87       640\n",
      "\n"
     ]
    }
   ],
   "source": [
    "y_pred_regresion = best_clf.predict(X_test_regresion)\n",
    "print(f'Accuracy: {accuracy_score(y_test_regresion, y_pred_regresion)}')\n",
    "\n",
    "print(classification_report(y_test_regresion, y_pred_regresion))"
   ]
  }
 ],
 "metadata": {
  "kernelspec": {
   "display_name": "Python 3",
   "language": "python",
   "name": "python3"
  },
  "language_info": {
   "codemirror_mode": {
    "name": "ipython",
    "version": 3
   },
   "file_extension": ".py",
   "mimetype": "text/x-python",
   "name": "python",
   "nbconvert_exporter": "python",
   "pygments_lexer": "ipython3",
   "version": "3.10.6"
  }
 },
 "nbformat": 4,
 "nbformat_minor": 2
}
